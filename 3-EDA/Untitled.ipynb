{
 "cells": [
  {
   "cell_type": "code",
   "execution_count": 33,
   "id": "cc4b6edc",
   "metadata": {},
   "outputs": [],
   "source": [
    "import pandas as pd\n",
    "import numpy as np\n",
    "import seaborn as sns\n",
    "import matplotlib.pyplot as plt\n",
    "\n",
    "from sklearn.feature_extraction.text import CountVectorizer, TfidfVectorizer\n",
    "import spacy\n",
    "from nltk.tokenize import RegexpTokenizer\n",
    "from nltk import word_tokenize          \n",
    "from nltk.stem import WordNetLemmatizer "
   ]
  },
  {
   "cell_type": "code",
   "execution_count": 34,
   "id": "74574886",
   "metadata": {},
   "outputs": [],
   "source": [
    "qpr = pd.read_csv('../2-cleaning/qpr_combined.csv')\n",
    "qpr_p = pd.read_csv('../1-data-collection/qpr_posts.csv')\n",
    "\n",
    "liv = pd.read_csv('../2-cleaning/liv_final.csv')\n",
    "\n",
    "qpr_one = pd.read_csv('../2-cleaning/qpr_one_word.csv')\n",
    "liv_one = pd.read_csv('../2-cleaning/liv_one.csv')"
   ]
  },
  {
   "cell_type": "raw",
   "id": "f15cc8c2",
   "metadata": {},
   "source": [
    "# My train and test sets are enormous so i started to experiment with multiprocess pooling\n",
    "# https://superfastpython.com/multiprocessing-pool-python/\n",
    "# https://stackoverflow.com/questions/5442910/how-to-use-multiprocessing-pool-map-with-multiple-arguments\n",
    "# https://docs.python.org/dev/library/multiprocessing.html#multiprocessing.pool.Pool.starmap\n",
    "\n",
    "# Define the number of processes to use\n",
    "num_processes = 4\n",
    "\n",
    "# Split the data frame into ~even-sized chunks with no decimal\n",
    "chunk_size = len(X_train) // num_processes\n",
    "# set chunks equal to a list comprehension that:\n",
    "# 1. iterates over the range of indicies from 0 to length of X_train in steps of 'chunk_size'\n",
    "# 2. creates a slice of X_train with rows equal to index and index plus chunk_size in order to\n",
    "# create a number of processes that do not overlap but do contain all rows\n",
    "chunks = [X_train[i:i+chunk_size] for i in range(0, len(X_train), chunk_size)]\n",
    "\n",
    "# Create a pool object with the number of processes\n",
    "with Pool(num_processes) as pool:\n",
    "    # Use the pool map function to apply my preprocess for models function to each chunk of the dataframe\n",
    "    # map takes two parameters: a function to apply, and an iterable with elements to apply the function to\n",
    "    results = pool.map(model_methods.preprocess_for_models_pool, chunks)\n",
    "\n",
    "# Concatenate the results into a single data frame\n",
    "X_train_processed = pd.concat(results)\n",
    "\n",
    "# Print the processed data frame\n",
    "X_train_processed.head()"
   ]
  },
  {
   "cell_type": "code",
   "execution_count": 35,
   "id": "75653e34",
   "metadata": {},
   "outputs": [
    {
     "data": {
      "text/plain": [
       "This thread is for general football discussion and a place to ask quick questions.\\n\\n- [Recent Match Threads](https://www.reddit.com/r/LiverpoolFC/search?q=flair%3Amatch%2Bthread&amp;sort=new&amp;restrict_sr=on&amp;t=week)\\n- [Full FAQs](https://www.reddit.com/r/LiverpoolFC/wiki/faq)\\n- [Buying Tickets](https://redd.it/6i9ev7)\\n- [Where is showing the match](https://www.reddit.com/r/LiverpoolFC/search?q=Where+to+watch+the+match+in%3F&amp;restrict_sr=on&amp;sort=relevance&amp;t=all)\\n                                                                                                                                                                                                                                                                                                                                                                                                                                                                                                                                                                                                                                                                        356\n",
       "This thread is for general football discussion and a place to ask quick questions.\\n\\n- [Recent Match Threads](https://www.reddit.com/r/LiverpoolFC/search?q=flair%3Amatch%2Bthread&amp;sort=new&amp;restrict_sr=on&amp;t=week)\\n- [Full FAQs](https://www.reddit.com/r/LiverpoolFC/wiki/faq)\\n- [Buying Tickets](https://redd.it/8u0612)\\n- [Guide for new fans](https://www.reddit.com/r/LiverpoolFC/wiki/newfans)\\n- [Where is showing the match](https://www.reddit.com/r/LiverpoolFC/search?q=Where+to+watch+the+match+in%3F&amp;restrict_sr=on&amp;sort=relevance&amp;t=all)\\n- [What channel is the next match on?](https://www.livesoccertv.com/teams/england/liverpool/)\\n- [Discord Server](http://discord.gg/liverpoolfc)\\n- Fantasy Football Code: e0b59n                                                                                                                                                                                                                                                                                                                                                                                                            288\n",
       "This thread is for general football discussion and a place to ask quick questions.\\n\\n- [Recent Match Threads](https://www.reddit.com/r/LiverpoolFC/search?q=flair%3Amatch%2Bthread&amp;sort=new&amp;restrict_sr=on&amp;t=week)\\n- [Full FAQs](https://www.reddit.com/r/LiverpoolFC/wiki/faq)\\n- [Buying Tickets](https://redd.it/8u0612)\\n- [Guide for new fans](https://www.reddit.com/r/LiverpoolFC/wiki/newfans)\\n- [Where is showing the match](https://www.reddit.com/r/LiverpoolFC/search?q=Where+to+watch+the+match+in%3F&amp;restrict_sr=on&amp;sort=relevance&amp;t=all)\\n- [What channel is the next match on?](https://www.livesoccertv.com/teams/england/liverpool/)\\n- Fantasy Football Code: 245879-50345\\n                                                                                                                                                                                                                                                                                                                                                                                                                                                       223\n",
       "\\- [Recent Match Threads](https://www.reddit.com/r/LiverpoolFC/?f=flair_name%3A%22Post%20Match%22)\\n\\n\\- [Full FAQs](https://www.reddit.com/r/LiverpoolFC/wiki/faq)\\n\\n\\- [Buying Tickets](https://redd.it/8u0612)\\n\\n\\- [Guide for new fans](https://www.reddit.com/r/LiverpoolFC/wiki/newfans)\\n\\n\\- [Where is showing the match](https://www.reddit.com/r/LiverpoolFC/search?q=Where+to+watch+the+match+in%3F&amp;restrict_sr=on&amp;sort=relevance&amp;t=all)\\n\\n\\- [What channel is the next match on?](https://www.livesoccertv.com/teams/england/liverpool/)\\n\\n \\- [2020-2021 Charitable Bets](https://old.reddit.com/r/LiverpoolFC/comments/iqg9x3/20202021_charitable_bets/)\\n\\n\\- [YNWSA - Winter 2021](https://old.reddit.com/r/LiverpoolFC/comments/kptlmy/ynwsa_pandemic_edition/?sort=new)\\n\\n \\- Fantasy Football Code 20/21 Season: w0d5rk                                                                                                                                                                                                                                                                                                                      136\n",
       "This thread is for general football discussion and a place to ask quick questions.\\n\\n- [Recent Match Threads](https://www.reddit.com/r/LiverpoolFC/search?q=flair%3Amatch%2Bthread&amp;sort=new&amp;restrict_sr=on&amp;t=week)\\n- [Full FAQs](https://www.reddit.com/r/LiverpoolFC/wiki/faq)\\n- [Buying Tickets](https://redd.it/8u0612)\\n- [Guide for new fans](https://www.reddit.com/r/LiverpoolFC/wiki/newfans)\\n- [Where is showing the match](https://www.reddit.com/r/LiverpoolFC/search?q=Where+to+watch+the+match+in%3F&amp;restrict_sr=on&amp;sort=relevance&amp;t=all)\\n- [What channel is the next match on?](https://www.livesoccertv.com/teams/england/liverpool/)\\n- Fantasy Football Code: 245879-50345                                                                                                                                                                                                                                                                                                                                                                                                                                                         119\n",
       "\\- [Transfer Guide Update Poll](https://old.reddit.com/r/LiverpoolFC/comments/z737la/transfer_tier_guide_update_survey/)\\n\\n\\- [Recent Match Threads](https://www.reddit.com/r/LiverpoolFC/?f=flair_name%3A%22Post%20Match%22)\\n\\n\\- [Full FAQs](https://www.reddit.com/r/LiverpoolFC/wiki/faq)\\n\\n\\- [Buying Tickets](https://redd.it/8u0612)\\n\\n\\- [Guide for new fans](https://www.reddit.com/r/LiverpoolFC/wiki/newfans)\\n\\n\\- [Where is showing the match](https://www.reddit.com/r/LiverpoolFC/search?q=Where+to+watch+the+match+in%3F&amp;restrict_sr=on&amp;sort=relevance&amp;t=all)\\n\\n\\- [What channel is the next match on?](https://www.livesoccertv.com/teams/england/liverpool/)\\n\\n\\- [2022-2023 Charitable Bets](https://www.reddit.com/r/LiverpoolFC/comments/w38az0/20222023_charitable_bets/)\\n\\n\\- [YNWSA- Winter Window 2023](https://www.reddit.com/r/LiverpoolFC/comments/zqonxd/ynwsa_winter_window_2023/)\\n\\n\\-  FPL : 9w7i3j                                                                                                                                                                                                                           89\n",
       "This thread is for general football discussion and a place to ask quick questions.\\n\\n- [Recent Match Threads](https://www.reddit.com/r/LiverpoolFC/search?q=flair%3Amatch%2Bthread&amp;sort=new&amp;restrict_sr=on&amp;t=week)\\n- [Full FAQs](https://www.reddit.com/r/LiverpoolFC/wiki/faq)\\n- [Buying Tickets](https://redd.it/8u0612)\\n- [Guide for new fans](https://www.reddit.com/r/LiverpoolFC/wiki/newfans)\\n- [Where is showing the match](https://www.reddit.com/r/LiverpoolFC/search?q=Where+to+watch+the+match+in%3F&amp;restrict_sr=on&amp;sort=relevance&amp;t=all)\\n- [What channel is the next match on?](https://www.livesoccertv.com/teams/england/liverpool/)\\n- Fantasy Football Code 20/21 Season: w0d5rk\\n- [International Break Thread -Sept 2020](https://www.reddit.com/r/LiverpoolFC/comments/iiwowu/international_break_thread/)\\n- [**YNWSA**](https://www.reddit.com/r/LiverpoolFC/comments/hlthcr/ynwsa_19_times_edition/?utm_source=share&amp;utm_medium=web2x)                                                                                                                                                                                   86\n",
       "\\- [Recent Match Threads](https://www.reddit.com/r/LiverpoolFC/?f=flair_name%3A%22Post%20Match%22)\\n\\n\\- [Full FAQs](https://www.reddit.com/r/LiverpoolFC/wiki/faq)\\n\\n\\- [Buying Tickets](https://redd.it/8u0612)\\n\\n\\- [Guide for new fans](https://www.reddit.com/r/LiverpoolFC/wiki/newfans)\\n\\n\\- [Where is showing the match](https://www.reddit.com/r/LiverpoolFC/search?q=Where+to+watch+the+match+in%3F&amp;restrict_sr=on&amp;sort=relevance&amp;t=all)\\n\\n\\- [What channel is the next match on?](https://www.livesoccertv.com/teams/england/liverpool/)\\n\\n \\- [2021-2022 Charitable Bets](https://www.reddit.com/r/LiverpoolFC/comments/oqwfav/20212022_charitable_bets/)\\n\\n\\- [YNWSA - Great Escape Edition](https://www.reddit.com/r/LiverpoolFC/comments/njw51m/ynwsa_great_escape_edition/?sort=new)\\n\\n\\- FPL code : dfi4cc                                                                                                                                                                                                                                                                                                                                    75\n",
       "This thread is for general football discussion and a place to ask quick questions.\\n\\n- [Recent Match Threads](https://www.reddit.com/r/LiverpoolFC/search?q=flair%3Amatch%2Bthread&amp;sort=new&amp;restrict_sr=on&amp;t=week)\\n- [Full FAQs](https://www.reddit.com/r/LiverpoolFC/wiki/faq)\\n- [Buying Tickets](https://redd.it/8u0612)\\n- [Guide for new fans](https://www.reddit.com/r/LiverpoolFC/wiki/newfans)\\n- [Where is showing the match](https://www.reddit.com/r/LiverpoolFC/search?q=Where+to+watch+the+match+in%3F&amp;restrict_sr=on&amp;sort=relevance&amp;t=all)\\n- [What channel is the next match on?](https://www.livesoccertv.com/teams/england/liverpool/)\\n- Fantasy Football Code: e0b59n                                                                                                                                                                                                                                                                                                                                                                                                                                                                61\n",
       " \\n\\nWe've all recovered from the matchday, we've re-watched the highlights - time to get stuck into the nitty gritty. Formations, buildup play, key players - this is your chance to talk and analyze any aspects of the game. Or if you want to preview the upcoming match, fire away! Think of it as your audition for the Monday Night Football discussion.\\n\\nCheck out work by contributors from our community on this topic in any of the following flairs\\n\\n* [Recent Match Stats and Analysis](https://old.reddit.com/r/LiverpoolFC/search?sort=new&amp;restrict_sr=on&amp;q=flair%3AData%2B%2F%2BStats%2B%2F%2BAnalysis)\\n* [Recent Player Ratings Threads](https://old.reddit.com/r/LiverpoolFC/search?sort=new&amp;restrict_sr=on&amp;q=flair%3APlayer%2BRatings)\\n* [Recent Post Match Threads](https://www.reddit.com/r/LiverpoolFC/?f=flair_name%3A%22Post%20Match%22)\\n* [Where to watch the next game](http://www.livesoccertv.com/teams/england/liverpool/)\\n* [Recent Goals](https://old.reddit.com/r/LiverpoolFC/search?sort=new&amp;restrict_sr=on&amp;q=flair%3AGoal%2B20-21)\\n\\nThis thread is for analysis and non-serious comments will be removed.     56\n",
       "Ethereum Name Service ($ENS) is Airdropping Tokens worth up to 5000$ for the first 1000 People To Claim it.                                                                                                                                                                                                                                                                                                                                                                                                                                                                                                                                                                                                                                                                                                                                                                                                                                                                                                                                                                                                                                                                       51\n",
       "We've all recovered from the weekend, we've rewatched the highlights - time to get stuck into the nitty gritty. Formations, buildup play, key players - this is your chance to talk and analyse any aspects of the game. Or if you want to preview the upcoming match, fire away! Think of it as your audition for the Monday Night Football discussion.\\n\\n- [Post-Match day threads](https://www.reddit.com/r/LiverpoolFC/search?q=flair%3ASerious+%22Post-Match+Day%22&amp;restrict_sr=on&amp;sort=new&amp;t=all)\\n- [Last Match Threads](https://www.reddit.com/r/LiverpoolFC/search?q=flair%3Amatch%2Bthread&amp;sort=new&amp;restrict_sr=on&amp;t=week)\\n- [Football Highlights](http://reddit.com/r/footballhighlights)\\n- [Where to watch the next game](http://www.livesoccertv.com/teams/england/liverpool/)\\n\\nThis thread is for analysis and non-serious comments will be removed.                                                                                                                                                                                                                                                                                   42\n",
       "\\- [Recent Match Threads](https://www.reddit.com/r/LiverpoolFC/?f=flair_name%3A%22Post%20Match%22)\\n\\n\\- [Full FAQs](https://www.reddit.com/r/LiverpoolFC/wiki/faq)\\n\\n\\- [Buying Tickets](https://redd.it/8u0612)\\n\\n\\- [Guide for new fans](https://www.reddit.com/r/LiverpoolFC/wiki/newfans)\\n\\n\\- [Where is showing the match](https://www.reddit.com/r/LiverpoolFC/search?q=Where+to+watch+the+match+in%3F&amp;restrict_sr=on&amp;sort=relevance&amp;t=all)\\n\\n\\- [What channel is the next match on?](https://www.livesoccertv.com/teams/england/liverpool/)\\n\\n \\- [2020-2021 Charitable Bets](https://old.reddit.com/r/LiverpoolFC/comments/iqg9x3/20202021_charitable_bets/)\\n\\n\\- [YNWSA - Great Escape Edition](https://www.reddit.com/r/LiverpoolFC/comments/njw51m/ynwsa_great_escape_edition/?sort=new)\\n\\n\\- [Copa America and European Championship Mega thread](https://www.reddit.com/r/LiverpoolFC/comments/nn7ow7/copa_america_and_european_championship_megathread/)\\n\\n\\- FPL code : dfi4cc                                                                                                                                                                32\n",
       "We've all recovered from the weekend, we've rewatched the highlights - time to get stuck into the nitty gritty. Formations, buildup play, key players - this is your chance to talk and analyse any aspects of the game. Or if you want to preview the upcoming match, fire away! Think of it as your audition for the Monday Night Football discussion.\\n\\n- [Post-Match day threads](https://www.reddit.com/r/LiverpoolFC/search?q=flair%3ASerious+%22Post-Match+Day%22&amp;restrict_sr=on&amp;sort=new&amp;t=all)\\n- [Last Match Threads](https://www.reddit.com/r/LiverpoolFC/search?q=flair%3Amatch%2Bthread&amp;sort=new&amp;restrict_sr=on&amp;t=week)\\n- [Football Highlights](http://reddit.com/r/footballhighlights)\\n- [Where to watch the next game](http://www.livesoccertv.com/teams/england/liverpool/)\\n                                                                                                                                                                                                                                                                                                                                                          30\n",
       "\\- [Recent Match Threads](https://www.reddit.com/r/LiverpoolFC/?f=flair_name%3A%22Post%20Match%22)\\n\\n\\- [Full FAQs](https://www.reddit.com/r/LiverpoolFC/wiki/faq)\\n\\n\\- [Buying Tickets](https://redd.it/8u0612)\\n\\n\\- [Guide for new fans](https://www.reddit.com/r/LiverpoolFC/wiki/newfans)\\n\\n\\- [Where is showing the match](https://www.reddit.com/r/LiverpoolFC/search?q=Where+to+watch+the+match+in%3F&amp;restrict_sr=on&amp;sort=relevance&amp;t=all)\\n\\n\\- [What channel is the next match on?](https://www.livesoccertv.com/teams/england/liverpool/)\\n\\n\\- [2022-2023 Charitable Bets](https://www.reddit.com/r/LiverpoolFC/comments/w38az0/20222023_charitable_bets/)\\n\\n\\- [YNWSA- Summer Window 2022](https://www.reddit.com/r/LiverpoolFC/comments/v0xad6/ynwsa_summer_window_2022/)\\n\\n\\-  FPL : 9w7i3j                                                                                                                                                                                                                                                                                                                                                       29\n",
       "This will burn your belly fat! To lose 16 pounds in 3 days, every night ...'                                                                                                                                                                                                                                                                                                                                                                                                                                                                                                                                                                                                                                                                                                                                                                                                                                                                                                                                                                                                                                                                                                      27\n",
       "[ Removed by reddit in response to a copyright notice. ]                                                                                                                                                                                                                                                                                                                                                                                                                                                                                                                                                                                                                                                                                                                                                                                                                                                                                                                                                                                                                                                                                                                          26\n",
       "\\- [Recent Match Threads](https://www.reddit.com/r/LiverpoolFC/?f=flair_name%3A%22Post%20Match%22)\\n\\n\\- [Full FAQs](https://www.reddit.com/r/LiverpoolFC/wiki/faq)\\n\\n\\- [Buying Tickets](https://redd.it/8u0612)\\n\\n\\- [Guide for new fans](https://www.reddit.com/r/LiverpoolFC/wiki/newfans)\\n\\n\\- [Where is showing the match](https://www.reddit.com/r/LiverpoolFC/search?q=Where+to+watch+the+match+in%3F&amp;restrict_sr=on&amp;sort=relevance&amp;t=all)\\n\\n\\- [What channel is the next match on?](https://www.livesoccertv.com/teams/england/liverpool/)\\n\\n \\- [2020-2021 Charitable Bets](https://old.reddit.com/r/LiverpoolFC/comments/iqg9x3/20202021_charitable_bets/)\\n\\n\\- [YNWSA - Great Escape Edition](https://www.reddit.com/r/LiverpoolFC/comments/njw51m/ynwsa_great_escape_edition/?sort=new)\\n\\n\\- [Copa America and European Championship Mega thread](https://www.reddit.com/r/LiverpoolFC/comments/nn7ow7/copa_america_and_european_championship_megathread/)                                                                                                                                                                                        26\n",
       "Which one of you did this?                                                                                                                                                                                                                                                                                                                                                                                                                                                                                                                                                                                                                                                                                                                                                                                                                                                                                                                                                                                                                                                                                                                                                        24\n",
       "Lets use this as a discussion thread for International football. \\n\\nFor Liverpool specific player information, click below link:\\n\\n[Daily Match Summary Thread](https://www.reddit.com/r/LiverpoolFC/comments/nn7ow7/copa_america_and_european_championship_megathread/)\\n\\n[YNWSA - Summer Transfer Thread](https://www.reddit.com/r/LiverpoolFC/comments/njw51m/ynwsa_great_escape_edition/?sort=new)\\n\\n&amp;#x200B;\\n\\n*Note: If a user creates Liverpool player specific watch thread, it will have priority over this thread.*                                                                                                                                                                                                                                                                                                                                                                                                                                                                                                                                                                                                                                            24\n",
       "Ferrari's new NFT collection is Live. 800 NFTs for the first 800 people.                                                                                                                                                                                                                                                                                                                                                                                                                                                                                                                                                                                                                                                                                                                                                                                                                                                                                                                                                                                                                                                                                                          20\n",
       "This thread is for general football discussion and a place to ask quick questions.\\n\\nFollow us on [Twitter](https://twitter.com/rliverpoolfc)! \\n\\n- [Recent Match Threads](https://www.reddit.com/r/LiverpoolFC/search?q=flair%3Amatch%2Bthread&amp;sort=new&amp;restrict_sr=on&amp;t=week)\\n- [Full FAQs](https://www.reddit.com/r/LiverpoolFC/wiki/faq)\\n- [Buying Tickets](https://redd.it/8u0612)\\n- [Guide for new fans](https://www.reddit.com/r/LiverpoolFC/wiki/newfans)\\n- [Where is showing the match](https://www.reddit.com/r/LiverpoolFC/search?q=Where+to+watch+the+match+in%3F&amp;restrict_sr=on&amp;sort=relevance&amp;t=all)\\n- [What channel is the next match on?](https://www.livesoccertv.com/teams/england/liverpool/)\\n- [Discord Server](http://discord.gg/liverpoolfc)\\n- Fantasy Football Code: e0b59n                                                                                                                                                                                                                                                                                                                                               19\n",
       "We've all recovered from the weekend, we've rewatched the highlights - time to get stuck into the nitty gritty. Formations, buildup play, key players - this is your chance to talk and analyse any aspects of the game. Or if you want to preview the upcoming match, fire away! Think of it as your audition for the Monday Night Football discussion.\\n\\n- [Post-Match day threads](https://www.reddit.com/r/LiverpoolFC/search?q=flair%3ASerious+%22Post-Match+Day%22&amp;restrict_sr=on&amp;sort=new&amp;t=all)\\n- [Last Match Threads](https://www.reddit.com/r/LiverpoolFC/search?q=flair%3Amatch%2Bthread&amp;sort=new&amp;restrict_sr=on&amp;t=week)\\n- [Football Highlights](http://reddit.com/r/footballhighlights)\\n- [Where to watch the next game](http://www.livesoccertv.com/teams/england/liverpool/)                                                                                                                                                                                                                                                                                                                                                            17\n",
       "How many days until the final?                                                                                                                                                                                                                                                                                                                                                                                                                                                                                                                                                                                                                                                                                                                                                                                                                                                                                                                                                                                                                                                                                                                                                    17\n",
       "FIFA 19 [Online Game Code] is 50% OFF                                                                                                                                                                                                                                                                                                                                                                                                                                                                                                                                                                                                                                                                                                                                                                                                                                                                                                                                                                                                                                                                                                                                             17\n",
       "\\- [Transfer Guide Update Poll](https://old.reddit.com/r/LiverpoolFC/comments/z737la/transfer_tier_guide_update_survey/)\\n\\n\\- [Recent Match Threads](https://www.reddit.com/r/LiverpoolFC/?f=flair_name%3A%22Post%20Match%22)\\n\\n\\- [Full FAQs](https://www.reddit.com/r/LiverpoolFC/wiki/faq)\\n\\n\\- [Buying Tickets](https://redd.it/8u0612)\\n\\n\\- [Guide for new fans](https://www.reddit.com/r/LiverpoolFC/wiki/newfans)\\n\\n\\- [Where is showing the match](https://www.reddit.com/r/LiverpoolFC/search?q=Where+to+watch+the+match+in%3F&amp;restrict_sr=on&amp;sort=relevance&amp;t=all)\\n\\n\\- [What channel is the next match on?](https://www.livesoccertv.com/teams/england/liverpool/)\\n\\n\\- [2022-2023 Charitable Bets](https://www.reddit.com/r/LiverpoolFC/comments/w38az0/20222023_charitable_bets/)\\n\\n\\- [YNWSA- Summer Window 2022](https://www.reddit.com/r/LiverpoolFC/comments/v0xad6/ynwsa_summer_window_2022/)\\n\\n\\-  FPL : 9w7i3j                                                                                                                                                                                                                           16\n",
       "Liverpool FC Champions OF England YNWA !!                                                                                                                                                                                                                                                                                                                                                                                                                                                                                                                                                                                                                                                                                                                                                                                                                                                                                                                                                                                                                                                                                                                                         16\n",
       "Rolls Royce's new NFT collection is Live! 800 NFTs for the first 800 people!                                                                                                                                                                                                                                                                                                                                                                                                                                                                                                                                                                                                                                                                                                                                                                                                                                                                                                                                                                                                                                                                                                      13\n",
       "Name: body, dtype: int64"
      ]
     },
     "execution_count": 35,
     "metadata": {},
     "output_type": "execute_result"
    }
   ],
   "source": [
    "liv.body.value_counts().loc[lambda x: x> 10].sort_values(ascending = False)"
   ]
  },
  {
   "cell_type": "code",
   "execution_count": 37,
   "id": "a1802fd3",
   "metadata": {},
   "outputs": [
    {
     "data": {
      "text/plain": [
       "13"
      ]
     },
     "execution_count": 37,
     "metadata": {},
     "output_type": "execute_result"
    }
   ],
   "source": [
    "len(liv[liv.body == \"Rolls Royce's new NFT collection is Live! 800 NFTs for the first 800 people!\"])"
   ]
  },
  {
   "cell_type": "code",
   "execution_count": 40,
   "id": "c04be8ad",
   "metadata": {
    "scrolled": true
   },
   "outputs": [],
   "source": [
    "\n"
   ]
  },
  {
   "cell_type": "code",
   "execution_count": 44,
   "id": "6f3942dd",
   "metadata": {},
   "outputs": [
    {
     "data": {
      "text/plain": [
       "Stream 23 on coolsport.tv is working well.                                                                                                                                                                                                                                                                                                                                                                                                                                                                                                                                                                                                             4\n",
       "I gotta say, I thought we played an excellent game.\\n\\nFor WBA and Aston Villa we need to remove Hoilett from the team and play Vargas.                                                                                                                                                                                                                                                                                                                                                                                                                                                                                                                3\n",
       ":(                                                                                                                                                                                                                                                                                                                                                                                                                                                                                                                                                                                                                                                     3\n",
       "+harryout                                                                                                                                                                                                                                                                                                                                                                                                                                                                                                                                                                                                                                              3\n",
       "Top write up. Wish you all the best.                                                                                                                                                                                                                                                                                                                                                                                                                                                                                                                                                                                                                   3\n",
       "                                                                                                                                                                                                                                                                                                                                                                                                                                                                                                                                                                                                                                                      ..\n",
       "I needed another half. 43 minutes isn't enough...                                                                                                                                                                                                                                                                                                                                                                                                                                                                                                                                                                                                      2\n",
       "MAN OF THE MATCH: YUN SUK-YOUNG (경기의 사람 : 석 영 윤)                                                                                                                                                                                                                                                                                                                                                                                                                                                                                                                                                                                                       2\n",
       "Just doing some research on strikers because i have the time. Michiel Kramer seems a very good target man/poacher with good positioning.\\n\\nMark Uth for SC Heerenveen has scored 14 from 30 at 23 years of age. He is also going to be out of contract at the end of the season if i recall correctly. He is 6'1\" and quite agile on the ball and equally strong on both feet.\\n\\nJust some options...\\nI would like us to delve through lower English Leagues for consistent goal scorers like Charlie who worked their way up the ranks. A goalscorer is a goalscorer regardless of the league they are in. Apart from Soldado, he is just shit.    2\n",
       "I'm personally very happy with this move. He knows the players, knows the manager and I think he's a better Prem player than Championship!                                                                                                                                                                                                                                                                                                                                                                                                                                                                                                             2\n",
       "Good starting lineup.                                                                                                                                                                                                                                                                                                                                                                                                                                                                                                                                                                                                                                  2\n",
       "Name: body, Length: 79, dtype: int64"
      ]
     },
     "execution_count": 44,
     "metadata": {},
     "output_type": "execute_result"
    }
   ],
   "source": [
    "qpr.body.value_counts().loc[lambda x: x> 1].sort_values(ascending = False)"
   ]
  },
  {
   "cell_type": "code",
   "execution_count": 45,
   "id": "a4bfa517",
   "metadata": {},
   "outputs": [
    {
     "data": {
      "text/html": [
       "<div>\n",
       "<style scoped>\n",
       "    .dataframe tbody tr th:only-of-type {\n",
       "        vertical-align: middle;\n",
       "    }\n",
       "\n",
       "    .dataframe tbody tr th {\n",
       "        vertical-align: top;\n",
       "    }\n",
       "\n",
       "    .dataframe thead th {\n",
       "        text-align: right;\n",
       "    }\n",
       "</style>\n",
       "<table border=\"1\" class=\"dataframe\">\n",
       "  <thead>\n",
       "    <tr style=\"text-align: right;\">\n",
       "      <th></th>\n",
       "      <th>subreddit</th>\n",
       "      <th>body</th>\n",
       "      <th>score</th>\n",
       "      <th>length</th>\n",
       "      <th>num_comments</th>\n",
       "      <th>date posted</th>\n",
       "      <th>id</th>\n",
       "    </tr>\n",
       "  </thead>\n",
       "  <tbody>\n",
       "    <tr>\n",
       "      <th>0</th>\n",
       "      <td>LiverpoolFC</td>\n",
       "      <td>Maybe the England lads were a diversion?</td>\n",
       "      <td>1.0</td>\n",
       "      <td>7</td>\n",
       "      <td>0</td>\n",
       "      <td>2023-03-27 22:13:10</td>\n",
       "      <td>1242m5s</td>\n",
       "    </tr>\n",
       "    <tr>\n",
       "      <th>1</th>\n",
       "      <td>LiverpoolFC</td>\n",
       "      <td>Jude Bellingham would be unbelievable for Live...</td>\n",
       "      <td>1.0</td>\n",
       "      <td>10</td>\n",
       "      <td>0</td>\n",
       "      <td>2023-03-27 21:56:08</td>\n",
       "      <td>12422ji</td>\n",
       "    </tr>\n",
       "    <tr>\n",
       "      <th>2</th>\n",
       "      <td>LiverpoolFC</td>\n",
       "      <td>Henderson: ‘He (Jude Bellingham) can go as hig...</td>\n",
       "      <td>1.0</td>\n",
       "      <td>50</td>\n",
       "      <td>0</td>\n",
       "      <td>2023-03-27 21:51:21</td>\n",
       "      <td>1241x6w</td>\n",
       "    </tr>\n",
       "    <tr>\n",
       "      <th>3</th>\n",
       "      <td>LiverpoolFC</td>\n",
       "      <td>[David Ornstein] Liverpool yet to open contrac...</td>\n",
       "      <td>1.0</td>\n",
       "      <td>45</td>\n",
       "      <td>0</td>\n",
       "      <td>2023-03-27 18:07:27</td>\n",
       "      <td>123v550</td>\n",
       "    </tr>\n",
       "    <tr>\n",
       "      <th>4</th>\n",
       "      <td>LiverpoolFC</td>\n",
       "      <td>[Giannis Chorianopoulos] Tsimikas is out after...</td>\n",
       "      <td>1.0</td>\n",
       "      <td>21</td>\n",
       "      <td>0</td>\n",
       "      <td>2023-03-27 16:27:40</td>\n",
       "      <td>123s7pk</td>\n",
       "    </tr>\n",
       "  </tbody>\n",
       "</table>\n",
       "</div>"
      ],
      "text/plain": [
       "     subreddit                                               body  score  \\\n",
       "0  LiverpoolFC           Maybe the England lads were a diversion?    1.0   \n",
       "1  LiverpoolFC  Jude Bellingham would be unbelievable for Live...    1.0   \n",
       "2  LiverpoolFC  Henderson: ‘He (Jude Bellingham) can go as hig...    1.0   \n",
       "3  LiverpoolFC  [David Ornstein] Liverpool yet to open contrac...    1.0   \n",
       "4  LiverpoolFC  [Giannis Chorianopoulos] Tsimikas is out after...    1.0   \n",
       "\n",
       "   length  num_comments          date posted       id  \n",
       "0       7             0  2023-03-27 22:13:10  1242m5s  \n",
       "1      10             0  2023-03-27 21:56:08  12422ji  \n",
       "2      50             0  2023-03-27 21:51:21  1241x6w  \n",
       "3      45             0  2023-03-27 18:07:27  123v550  \n",
       "4      21             0  2023-03-27 16:27:40  123s7pk  "
      ]
     },
     "execution_count": 45,
     "metadata": {},
     "output_type": "execute_result"
    }
   ],
   "source": [
    "liv.head()"
   ]
  }
 ],
 "metadata": {
  "kernelspec": {
   "display_name": "Python 3 (ipykernel)",
   "language": "python",
   "name": "python3"
  },
  "language_info": {
   "codemirror_mode": {
    "name": "ipython",
    "version": 3
   },
   "file_extension": ".py",
   "mimetype": "text/x-python",
   "name": "python",
   "nbconvert_exporter": "python",
   "pygments_lexer": "ipython3",
   "version": "3.9.13"
  }
 },
 "nbformat": 4,
 "nbformat_minor": 5
}

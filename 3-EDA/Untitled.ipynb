{
 "cells": [
  {
   "cell_type": "code",
   "execution_count": 1,
   "id": "cc4b6edc",
   "metadata": {},
   "outputs": [],
   "source": [
    "import pandas as pd\n",
    "import numpy as np\n",
    "import seaborn as sns\n",
    "import matplotlib.pyplot as plt\n",
    "\n",
    "from sklearn.feature_extraction.text import CountVectorizer, TfidfVectorizer\n",
    "import spacy\n",
    "from nltk.tokenize import RegexpTokenizer\n",
    "from nltk import word_tokenize          \n",
    "from nltk.stem import WordNetLemmatizer "
   ]
  },
  {
   "cell_type": "code",
   "execution_count": 2,
   "id": "74574886",
   "metadata": {},
   "outputs": [],
   "source": [
    "qpr = pd.read_csv('../2-cleaning/qpr_combined.csv')\n",
    "qpr_p = pd.read_csv('../1-data-collection/qpr_posts.csv')\n",
    "\n",
    "liv = pd.read_csv('../2-cleaning/liv_final.csv')\n",
    "\n",
    "qpr_one = pd.read_csv('../2-cleaning/qpr_one_word.csv')\n",
    "liv_one = pd.read_csv('../2-cleaning/liv_one.csv')"
   ]
  },
  {
   "cell_type": "code",
   "execution_count": 3,
   "id": "2035f0eb",
   "metadata": {},
   "outputs": [],
   "source": [
    "body = qpr.body"
   ]
  }
 ],
 "metadata": {
  "kernelspec": {
   "display_name": "Python 3 (ipykernel)",
   "language": "python",
   "name": "python3"
  },
  "language_info": {
   "codemirror_mode": {
    "name": "ipython",
    "version": 3
   },
   "file_extension": ".py",
   "mimetype": "text/x-python",
   "name": "python",
   "nbconvert_exporter": "python",
   "pygments_lexer": "ipython3",
   "version": "3.9.13"
  }
 },
 "nbformat": 4,
 "nbformat_minor": 5
}

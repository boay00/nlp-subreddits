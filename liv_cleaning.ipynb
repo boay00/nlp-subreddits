{
 "cells": [
  {
   "cell_type": "code",
   "execution_count": 4,
   "id": "37cf4266",
   "metadata": {},
   "outputs": [],
   "source": [
    "import pandas as pd\n",
    "import numpy as np\n"
   ]
  },
  {
   "cell_type": "code",
   "execution_count": 5,
   "id": "724ed7ac",
   "metadata": {},
   "outputs": [],
   "source": [
    "liv_p = pd.read_csv('./datasets/liv_posts.csv')"
   ]
  },
  {
   "cell_type": "code",
   "execution_count": 6,
   "id": "ba2adc5f",
   "metadata": {},
   "outputs": [],
   "source": [
    "# liv_p.selftext.replace('[deleted by user]', np.nan, inplace = True)"
   ]
  },
  {
   "cell_type": "code",
   "execution_count": 7,
   "id": "18a5b831",
   "metadata": {},
   "outputs": [],
   "source": [
    "# liv_p.dropna(inplace = True)"
   ]
  },
  {
   "cell_type": "code",
   "execution_count": 8,
   "id": "9c1082db",
   "metadata": {},
   "outputs": [],
   "source": [
    "# liv_p.head(1)"
   ]
  },
  {
   "cell_type": "code",
   "execution_count": 9,
   "id": "018db7f4",
   "metadata": {},
   "outputs": [],
   "source": [
    "# liv_p.rename(columns = {\n",
    "#     'selftext' : 'body',\n",
    "#     'utc_datetime_str' : 'date posted'\n",
    "# }, inplace = True)"
   ]
  },
  {
   "cell_type": "code",
   "execution_count": 10,
   "id": "11ec06a9",
   "metadata": {},
   "outputs": [],
   "source": [
    "# liv_p['length'] = liv_p.body.str.split().apply(lambda x: len(x))"
   ]
  },
  {
   "cell_type": "code",
   "execution_count": 18,
   "id": "e0fe9f56",
   "metadata": {},
   "outputs": [],
   "source": [
    "liv_one = liv_p['length'] < 2"
   ]
  },
  {
   "cell_type": "code",
   "execution_count": 15,
   "id": "cba9839b",
   "metadata": {},
   "outputs": [],
   "source": [
    "liv_p = liv_p[liv_p.length > 5]"
   ]
  },
  {
   "cell_type": "code",
   "execution_count": 16,
   "id": "2dd4b628",
   "metadata": {
    "scrolled": true
   },
   "outputs": [
    {
     "data": {
      "text/html": [
       "<div>\n",
       "<style scoped>\n",
       "    .dataframe tbody tr th:only-of-type {\n",
       "        vertical-align: middle;\n",
       "    }\n",
       "\n",
       "    .dataframe tbody tr th {\n",
       "        vertical-align: top;\n",
       "    }\n",
       "\n",
       "    .dataframe thead th {\n",
       "        text-align: right;\n",
       "    }\n",
       "</style>\n",
       "<table border=\"1\" class=\"dataframe\">\n",
       "  <thead>\n",
       "    <tr style=\"text-align: right;\">\n",
       "      <th></th>\n",
       "      <th>subreddit</th>\n",
       "      <th>body</th>\n",
       "      <th>score</th>\n",
       "      <th>length</th>\n",
       "      <th>num_comments</th>\n",
       "      <th>date posted</th>\n",
       "      <th>id</th>\n",
       "    </tr>\n",
       "  </thead>\n",
       "  <tbody>\n",
       "    <tr>\n",
       "      <th>1</th>\n",
       "      <td>LiverpoolFC</td>\n",
       "      <td>Maybe the England lads were a diversion?</td>\n",
       "      <td>1.0</td>\n",
       "      <td>7</td>\n",
       "      <td>0</td>\n",
       "      <td>2023-03-27 22:13:10</td>\n",
       "      <td>1242m5s</td>\n",
       "    </tr>\n",
       "    <tr>\n",
       "      <th>2</th>\n",
       "      <td>LiverpoolFC</td>\n",
       "      <td>Jude Bellingham would be unbelievable for Live...</td>\n",
       "      <td>1.0</td>\n",
       "      <td>10</td>\n",
       "      <td>0</td>\n",
       "      <td>2023-03-27 21:56:08</td>\n",
       "      <td>12422ji</td>\n",
       "    </tr>\n",
       "    <tr>\n",
       "      <th>3</th>\n",
       "      <td>LiverpoolFC</td>\n",
       "      <td>Henderson: ‘He (Jude Bellingham) can go as hig...</td>\n",
       "      <td>1.0</td>\n",
       "      <td>50</td>\n",
       "      <td>0</td>\n",
       "      <td>2023-03-27 21:51:21</td>\n",
       "      <td>1241x6w</td>\n",
       "    </tr>\n",
       "    <tr>\n",
       "      <th>6</th>\n",
       "      <td>LiverpoolFC</td>\n",
       "      <td>[David Ornstein] Liverpool yet to open contrac...</td>\n",
       "      <td>1.0</td>\n",
       "      <td>45</td>\n",
       "      <td>0</td>\n",
       "      <td>2023-03-27 18:07:27</td>\n",
       "      <td>123v550</td>\n",
       "    </tr>\n",
       "    <tr>\n",
       "      <th>7</th>\n",
       "      <td>LiverpoolFC</td>\n",
       "      <td>[Giannis Chorianopoulos] Tsimikas is out after...</td>\n",
       "      <td>1.0</td>\n",
       "      <td>21</td>\n",
       "      <td>0</td>\n",
       "      <td>2023-03-27 16:27:40</td>\n",
       "      <td>123s7pk</td>\n",
       "    </tr>\n",
       "    <tr>\n",
       "      <th>...</th>\n",
       "      <td>...</td>\n",
       "      <td>...</td>\n",
       "      <td>...</td>\n",
       "      <td>...</td>\n",
       "      <td>...</td>\n",
       "      <td>...</td>\n",
       "      <td>...</td>\n",
       "    </tr>\n",
       "    <tr>\n",
       "      <th>289147</th>\n",
       "      <td>LiverpoolFC</td>\n",
       "      <td>SInce the Liverpool is undoubtedly hitting som...</td>\n",
       "      <td>4.0</td>\n",
       "      <td>86</td>\n",
       "      <td>13</td>\n",
       "      <td>2010-11-08 19:00:43</td>\n",
       "      <td>e31m1</td>\n",
       "    </tr>\n",
       "    <tr>\n",
       "      <th>289148</th>\n",
       "      <td>LiverpoolFC</td>\n",
       "      <td>Leivinho bossing the game against Chelsea (vid)</td>\n",
       "      <td>11.0</td>\n",
       "      <td>7</td>\n",
       "      <td>6</td>\n",
       "      <td>2010-11-08 15:07:42</td>\n",
       "      <td>e2xqs</td>\n",
       "    </tr>\n",
       "    <tr>\n",
       "      <th>289149</th>\n",
       "      <td>LiverpoolFC</td>\n",
       "      <td>Rumor: Christian Poulsen Set for January Exit</td>\n",
       "      <td>6.0</td>\n",
       "      <td>7</td>\n",
       "      <td>6</td>\n",
       "      <td>2010-11-08 14:41:40</td>\n",
       "      <td>e2xdl</td>\n",
       "    </tr>\n",
       "    <tr>\n",
       "      <th>289151</th>\n",
       "      <td>LiverpoolFC</td>\n",
       "      <td>My MOTM. At 23 years old, if he can keep putti...</td>\n",
       "      <td>12.0</td>\n",
       "      <td>31</td>\n",
       "      <td>12</td>\n",
       "      <td>2010-11-07 22:38:51</td>\n",
       "      <td>e2n90</td>\n",
       "    </tr>\n",
       "    <tr>\n",
       "      <th>289154</th>\n",
       "      <td>LiverpoolFC</td>\n",
       "      <td>Axe will fall in Anfield rising. Interesting a...</td>\n",
       "      <td>6.0</td>\n",
       "      <td>12</td>\n",
       "      <td>0</td>\n",
       "      <td>2010-11-07 14:52:31</td>\n",
       "      <td>e2hqu</td>\n",
       "    </tr>\n",
       "  </tbody>\n",
       "</table>\n",
       "<p>225198 rows × 7 columns</p>\n",
       "</div>"
      ],
      "text/plain": [
       "          subreddit                                               body  score  \\\n",
       "1       LiverpoolFC           Maybe the England lads were a diversion?    1.0   \n",
       "2       LiverpoolFC  Jude Bellingham would be unbelievable for Live...    1.0   \n",
       "3       LiverpoolFC  Henderson: ‘He (Jude Bellingham) can go as hig...    1.0   \n",
       "6       LiverpoolFC  [David Ornstein] Liverpool yet to open contrac...    1.0   \n",
       "7       LiverpoolFC  [Giannis Chorianopoulos] Tsimikas is out after...    1.0   \n",
       "...             ...                                                ...    ...   \n",
       "289147  LiverpoolFC  SInce the Liverpool is undoubtedly hitting som...    4.0   \n",
       "289148  LiverpoolFC    Leivinho bossing the game against Chelsea (vid)   11.0   \n",
       "289149  LiverpoolFC     Rumor: Christian Poulsen Set for January Exit     6.0   \n",
       "289151  LiverpoolFC  My MOTM. At 23 years old, if he can keep putti...   12.0   \n",
       "289154  LiverpoolFC  Axe will fall in Anfield rising. Interesting a...    6.0   \n",
       "\n",
       "        length  num_comments          date posted       id  \n",
       "1            7             0  2023-03-27 22:13:10  1242m5s  \n",
       "2           10             0  2023-03-27 21:56:08  12422ji  \n",
       "3           50             0  2023-03-27 21:51:21  1241x6w  \n",
       "6           45             0  2023-03-27 18:07:27  123v550  \n",
       "7           21             0  2023-03-27 16:27:40  123s7pk  \n",
       "...        ...           ...                  ...      ...  \n",
       "289147      86            13  2010-11-08 19:00:43    e31m1  \n",
       "289148       7             6  2010-11-08 15:07:42    e2xqs  \n",
       "289149       7             6  2010-11-08 14:41:40    e2xdl  \n",
       "289151      31            12  2010-11-07 22:38:51    e2n90  \n",
       "289154      12             0  2010-11-07 14:52:31    e2hqu  \n",
       "\n",
       "[225198 rows x 7 columns]"
      ]
     },
     "execution_count": 16,
     "metadata": {},
     "output_type": "execute_result"
    }
   ],
   "source": [
    "liv_p"
   ]
  },
  {
   "cell_type": "code",
   "execution_count": null,
   "id": "252618c8",
   "metadata": {},
   "outputs": [],
   "source": []
  },
  {
   "cell_type": "code",
   "execution_count": null,
   "id": "a021f1e1",
   "metadata": {},
   "outputs": [],
   "source": []
  },
  {
   "cell_type": "code",
   "execution_count": null,
   "id": "dc32007a",
   "metadata": {},
   "outputs": [],
   "source": []
  },
  {
   "cell_type": "code",
   "execution_count": null,
   "id": "27a702b3",
   "metadata": {},
   "outputs": [],
   "source": []
  },
  {
   "cell_type": "code",
   "execution_count": null,
   "id": "04704d90",
   "metadata": {},
   "outputs": [],
   "source": []
  },
  {
   "cell_type": "code",
   "execution_count": 19,
   "id": "5e195c8f",
   "metadata": {},
   "outputs": [],
   "source": [
    "liv_one.to_csv('./datasets/liv_one.csv', index = False)\n",
    "liv_p.to_csv('./datasets/liv_final.csv', index = False)"
   ]
  }
 ],
 "metadata": {
  "kernelspec": {
   "display_name": "Python 3 (ipykernel)",
   "language": "python",
   "name": "python3"
  },
  "language_info": {
   "codemirror_mode": {
    "name": "ipython",
    "version": 3
   },
   "file_extension": ".py",
   "mimetype": "text/x-python",
   "name": "python",
   "nbconvert_exporter": "python",
   "pygments_lexer": "ipython3",
   "version": "3.9.13"
  }
 },
 "nbformat": 4,
 "nbformat_minor": 5
}

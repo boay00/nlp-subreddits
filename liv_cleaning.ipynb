{
 "cells": [
  {
   "cell_type": "code",
   "execution_count": 1,
   "id": "37cf4266",
   "metadata": {},
   "outputs": [],
   "source": [
    "import pandas as pd\n",
    "import numpy as np\n"
   ]
  },
  {
   "cell_type": "code",
   "execution_count": 3,
   "id": "724ed7ac",
   "metadata": {},
   "outputs": [
    {
     "name": "stderr",
     "output_type": "stream",
     "text": [
      "/var/folders/5h/p8nqld_13hg44lctlhg2ns8c0000gn/T/ipykernel_7164/1722319248.py:1: DtypeWarning: Columns (4) have mixed types. Specify dtype option on import or set low_memory=False.\n",
      "  liv_p = pd.read_csv('./datasets/liv_posts.csv')\n"
     ]
    }
   ],
   "source": [
    "liv_p = pd.read_csv('./datasets/liv_posts.csv')"
   ]
  },
  {
   "cell_type": "code",
   "execution_count": 7,
   "id": "ba2adc5f",
   "metadata": {},
   "outputs": [],
   "source": [
    "liv_p.selftext.replace('[deleted by user]', np.nan, inplace = True)"
   ]
  },
  {
   "cell_type": "code",
   "execution_count": 9,
   "id": "18a5b831",
   "metadata": {},
   "outputs": [],
   "source": [
    "liv_p.dropna(inplace = True)"
   ]
  },
  {
   "cell_type": "code",
   "execution_count": 11,
   "id": "9c1082db",
   "metadata": {},
   "outputs": [
    {
     "data": {
      "text/html": [
       "<div>\n",
       "<style scoped>\n",
       "    .dataframe tbody tr th:only-of-type {\n",
       "        vertical-align: middle;\n",
       "    }\n",
       "\n",
       "    .dataframe tbody tr th {\n",
       "        vertical-align: top;\n",
       "    }\n",
       "\n",
       "    .dataframe thead th {\n",
       "        text-align: right;\n",
       "    }\n",
       "</style>\n",
       "<table border=\"1\" class=\"dataframe\">\n",
       "  <thead>\n",
       "    <tr style=\"text-align: right;\">\n",
       "      <th></th>\n",
       "      <th>subreddit</th>\n",
       "      <th>selftext</th>\n",
       "      <th>score</th>\n",
       "      <th>length</th>\n",
       "      <th>num_comments</th>\n",
       "      <th>utc_datetime_str</th>\n",
       "      <th>id</th>\n",
       "    </tr>\n",
       "  </thead>\n",
       "  <tbody>\n",
       "    <tr>\n",
       "      <th>0</th>\n",
       "      <td>LiverpoolFC</td>\n",
       "      <td>Brooklyn license plate...</td>\n",
       "      <td>1.0</td>\n",
       "      <td>3.0</td>\n",
       "      <td>0</td>\n",
       "      <td>2023-03-27 23:31:08</td>\n",
       "      <td>124502d</td>\n",
       "    </tr>\n",
       "  </tbody>\n",
       "</table>\n",
       "</div>"
      ],
      "text/plain": [
       "     subreddit                   selftext  score  length num_comments  \\\n",
       "0  LiverpoolFC  Brooklyn license plate...    1.0     3.0            0   \n",
       "\n",
       "      utc_datetime_str       id  \n",
       "0  2023-03-27 23:31:08  124502d  "
      ]
     },
     "execution_count": 11,
     "metadata": {},
     "output_type": "execute_result"
    }
   ],
   "source": [
    "liv_p.head(1)"
   ]
  },
  {
   "cell_type": "code",
   "execution_count": 13,
   "id": "018db7f4",
   "metadata": {},
   "outputs": [],
   "source": [
    "liv_p.rename(columns = {\n",
    "    'selftext' : 'body',\n",
    "    'utc_datetime_str' : 'date posted'\n",
    "}, inplace = True)"
   ]
  },
  {
   "cell_type": "code",
   "execution_count": 15,
   "id": "11ec06a9",
   "metadata": {},
   "outputs": [],
   "source": [
    "liv_p['length'] = liv_p.body.str.split().apply(lambda x: len(x))"
   ]
  },
  {
   "cell_type": "code",
   "execution_count": 16,
   "id": "e0fe9f56",
   "metadata": {},
   "outputs": [],
   "source": [
    "liv_one = liv_p['length'] < 2"
   ]
  },
  {
   "cell_type": "code",
   "execution_count": 17,
   "id": "5e195c8f",
   "metadata": {},
   "outputs": [],
   "source": [
    "liv_one.to_csv('./datasets/liv_one.csv', index = False)\n",
    "liv_p.to_csv('./datasets/liv_posts.csv', index = False)"
   ]
  }
 ],
 "metadata": {
  "kernelspec": {
   "display_name": "Python 3 (ipykernel)",
   "language": "python",
   "name": "python3"
  },
  "language_info": {
   "codemirror_mode": {
    "name": "ipython",
    "version": 3
   },
   "file_extension": ".py",
   "mimetype": "text/x-python",
   "name": "python",
   "nbconvert_exporter": "python",
   "pygments_lexer": "ipython3",
   "version": "3.9.13"
  }
 },
 "nbformat": 4,
 "nbformat_minor": 5
}

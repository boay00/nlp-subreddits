{
 "cells": [
  {
   "cell_type": "code",
   "execution_count": 1,
   "id": "37cf4266",
   "metadata": {},
   "outputs": [],
   "source": [
    "import pandas as pd\n",
    "import numpy as np\n"
   ]
  },
  {
   "cell_type": "code",
   "execution_count": 2,
   "id": "724ed7ac",
   "metadata": {},
   "outputs": [],
   "source": [
    "liv_p = pd.read_csv('../1-data-collection/liv_posts.csv')"
   ]
  },
  {
   "cell_type": "code",
   "execution_count": 4,
   "id": "ba2adc5f",
   "metadata": {},
   "outputs": [],
   "source": [
    "liv_p.body.replace('[deleted by user]', np.nan, inplace = True)"
   ]
  },
  {
   "cell_type": "code",
   "execution_count": 5,
   "id": "18a5b831",
   "metadata": {},
   "outputs": [],
   "source": [
    "liv_p.dropna(inplace = True)"
   ]
  },
  {
   "cell_type": "code",
   "execution_count": 6,
   "id": "9c1082db",
   "metadata": {},
   "outputs": [
    {
     "data": {
      "text/html": [
       "<div>\n",
       "<style scoped>\n",
       "    .dataframe tbody tr th:only-of-type {\n",
       "        vertical-align: middle;\n",
       "    }\n",
       "\n",
       "    .dataframe tbody tr th {\n",
       "        vertical-align: top;\n",
       "    }\n",
       "\n",
       "    .dataframe thead th {\n",
       "        text-align: right;\n",
       "    }\n",
       "</style>\n",
       "<table border=\"1\" class=\"dataframe\">\n",
       "  <thead>\n",
       "    <tr style=\"text-align: right;\">\n",
       "      <th></th>\n",
       "      <th>subreddit</th>\n",
       "      <th>body</th>\n",
       "      <th>score</th>\n",
       "      <th>length</th>\n",
       "      <th>num_comments</th>\n",
       "      <th>date posted</th>\n",
       "      <th>id</th>\n",
       "    </tr>\n",
       "  </thead>\n",
       "  <tbody>\n",
       "    <tr>\n",
       "      <th>0</th>\n",
       "      <td>LiverpoolFC</td>\n",
       "      <td>Brooklyn license plate...</td>\n",
       "      <td>1.0</td>\n",
       "      <td>3</td>\n",
       "      <td>0</td>\n",
       "      <td>2023-03-27 23:31:08</td>\n",
       "      <td>124502d</td>\n",
       "    </tr>\n",
       "  </tbody>\n",
       "</table>\n",
       "</div>"
      ],
      "text/plain": [
       "     subreddit                       body  score  length  num_comments  \\\n",
       "0  LiverpoolFC  Brooklyn license plate...    1.0       3             0   \n",
       "\n",
       "           date posted       id  \n",
       "0  2023-03-27 23:31:08  124502d  "
      ]
     },
     "execution_count": 6,
     "metadata": {},
     "output_type": "execute_result"
    }
   ],
   "source": [
    "liv_p.head(1)"
   ]
  },
  {
   "cell_type": "code",
   "execution_count": 7,
   "id": "018db7f4",
   "metadata": {},
   "outputs": [],
   "source": [
    "liv_p.rename(columns = {\n",
    "    'date posted' : 'date_posted'\n",
    "}, inplace = True)"
   ]
  },
  {
   "cell_type": "code",
   "execution_count": 8,
   "id": "11ec06a9",
   "metadata": {},
   "outputs": [],
   "source": [
    "liv_p['length'] = liv_p.body.str.split().apply(lambda x: len(x))"
   ]
  },
  {
   "cell_type": "code",
   "execution_count": 9,
   "id": "e0fe9f56",
   "metadata": {},
   "outputs": [],
   "source": [
    "liv_one = liv_p['length'] < 2"
   ]
  },
  {
   "cell_type": "code",
   "execution_count": 10,
   "id": "cba9839b",
   "metadata": {},
   "outputs": [],
   "source": [
    "liv_p = liv_p[liv_p.length > 5]"
   ]
  },
  {
   "cell_type": "code",
   "execution_count": 11,
   "id": "2dd4b628",
   "metadata": {
    "scrolled": true
   },
   "outputs": [
    {
     "data": {
      "text/html": [
       "<div>\n",
       "<style scoped>\n",
       "    .dataframe tbody tr th:only-of-type {\n",
       "        vertical-align: middle;\n",
       "    }\n",
       "\n",
       "    .dataframe tbody tr th {\n",
       "        vertical-align: top;\n",
       "    }\n",
       "\n",
       "    .dataframe thead th {\n",
       "        text-align: right;\n",
       "    }\n",
       "</style>\n",
       "<table border=\"1\" class=\"dataframe\">\n",
       "  <thead>\n",
       "    <tr style=\"text-align: right;\">\n",
       "      <th></th>\n",
       "      <th>subreddit</th>\n",
       "      <th>body</th>\n",
       "      <th>score</th>\n",
       "      <th>length</th>\n",
       "      <th>num_comments</th>\n",
       "      <th>date_posted</th>\n",
       "      <th>id</th>\n",
       "    </tr>\n",
       "  </thead>\n",
       "  <tbody>\n",
       "    <tr>\n",
       "      <th>1</th>\n",
       "      <td>LiverpoolFC</td>\n",
       "      <td>Maybe the England lads were a diversion?</td>\n",
       "      <td>1.0</td>\n",
       "      <td>7</td>\n",
       "      <td>0</td>\n",
       "      <td>2023-03-27 22:13:10</td>\n",
       "      <td>1242m5s</td>\n",
       "    </tr>\n",
       "    <tr>\n",
       "      <th>2</th>\n",
       "      <td>LiverpoolFC</td>\n",
       "      <td>Jude Bellingham would be unbelievable for Live...</td>\n",
       "      <td>1.0</td>\n",
       "      <td>10</td>\n",
       "      <td>0</td>\n",
       "      <td>2023-03-27 21:56:08</td>\n",
       "      <td>12422ji</td>\n",
       "    </tr>\n",
       "    <tr>\n",
       "      <th>3</th>\n",
       "      <td>LiverpoolFC</td>\n",
       "      <td>Henderson: ‘He (Jude Bellingham) can go as hig...</td>\n",
       "      <td>1.0</td>\n",
       "      <td>50</td>\n",
       "      <td>0</td>\n",
       "      <td>2023-03-27 21:51:21</td>\n",
       "      <td>1241x6w</td>\n",
       "    </tr>\n",
       "    <tr>\n",
       "      <th>6</th>\n",
       "      <td>LiverpoolFC</td>\n",
       "      <td>[David Ornstein] Liverpool yet to open contrac...</td>\n",
       "      <td>1.0</td>\n",
       "      <td>45</td>\n",
       "      <td>0</td>\n",
       "      <td>2023-03-27 18:07:27</td>\n",
       "      <td>123v550</td>\n",
       "    </tr>\n",
       "    <tr>\n",
       "      <th>7</th>\n",
       "      <td>LiverpoolFC</td>\n",
       "      <td>[Giannis Chorianopoulos] Tsimikas is out after...</td>\n",
       "      <td>1.0</td>\n",
       "      <td>21</td>\n",
       "      <td>0</td>\n",
       "      <td>2023-03-27 16:27:40</td>\n",
       "      <td>123s7pk</td>\n",
       "    </tr>\n",
       "    <tr>\n",
       "      <th>...</th>\n",
       "      <td>...</td>\n",
       "      <td>...</td>\n",
       "      <td>...</td>\n",
       "      <td>...</td>\n",
       "      <td>...</td>\n",
       "      <td>...</td>\n",
       "      <td>...</td>\n",
       "    </tr>\n",
       "    <tr>\n",
       "      <th>289147</th>\n",
       "      <td>LiverpoolFC</td>\n",
       "      <td>SInce the Liverpool is undoubtedly hitting som...</td>\n",
       "      <td>4.0</td>\n",
       "      <td>86</td>\n",
       "      <td>13</td>\n",
       "      <td>2010-11-08 19:00:43</td>\n",
       "      <td>e31m1</td>\n",
       "    </tr>\n",
       "    <tr>\n",
       "      <th>289148</th>\n",
       "      <td>LiverpoolFC</td>\n",
       "      <td>Leivinho bossing the game against Chelsea (vid)</td>\n",
       "      <td>11.0</td>\n",
       "      <td>7</td>\n",
       "      <td>6</td>\n",
       "      <td>2010-11-08 15:07:42</td>\n",
       "      <td>e2xqs</td>\n",
       "    </tr>\n",
       "    <tr>\n",
       "      <th>289149</th>\n",
       "      <td>LiverpoolFC</td>\n",
       "      <td>Rumor: Christian Poulsen Set for January Exit</td>\n",
       "      <td>6.0</td>\n",
       "      <td>7</td>\n",
       "      <td>6</td>\n",
       "      <td>2010-11-08 14:41:40</td>\n",
       "      <td>e2xdl</td>\n",
       "    </tr>\n",
       "    <tr>\n",
       "      <th>289151</th>\n",
       "      <td>LiverpoolFC</td>\n",
       "      <td>My MOTM. At 23 years old, if he can keep putti...</td>\n",
       "      <td>12.0</td>\n",
       "      <td>31</td>\n",
       "      <td>12</td>\n",
       "      <td>2010-11-07 22:38:51</td>\n",
       "      <td>e2n90</td>\n",
       "    </tr>\n",
       "    <tr>\n",
       "      <th>289154</th>\n",
       "      <td>LiverpoolFC</td>\n",
       "      <td>Axe will fall in Anfield rising. Interesting a...</td>\n",
       "      <td>6.0</td>\n",
       "      <td>12</td>\n",
       "      <td>0</td>\n",
       "      <td>2010-11-07 14:52:31</td>\n",
       "      <td>e2hqu</td>\n",
       "    </tr>\n",
       "  </tbody>\n",
       "</table>\n",
       "<p>225198 rows × 7 columns</p>\n",
       "</div>"
      ],
      "text/plain": [
       "          subreddit                                               body  score  \\\n",
       "1       LiverpoolFC           Maybe the England lads were a diversion?    1.0   \n",
       "2       LiverpoolFC  Jude Bellingham would be unbelievable for Live...    1.0   \n",
       "3       LiverpoolFC  Henderson: ‘He (Jude Bellingham) can go as hig...    1.0   \n",
       "6       LiverpoolFC  [David Ornstein] Liverpool yet to open contrac...    1.0   \n",
       "7       LiverpoolFC  [Giannis Chorianopoulos] Tsimikas is out after...    1.0   \n",
       "...             ...                                                ...    ...   \n",
       "289147  LiverpoolFC  SInce the Liverpool is undoubtedly hitting som...    4.0   \n",
       "289148  LiverpoolFC    Leivinho bossing the game against Chelsea (vid)   11.0   \n",
       "289149  LiverpoolFC     Rumor: Christian Poulsen Set for January Exit     6.0   \n",
       "289151  LiverpoolFC  My MOTM. At 23 years old, if he can keep putti...   12.0   \n",
       "289154  LiverpoolFC  Axe will fall in Anfield rising. Interesting a...    6.0   \n",
       "\n",
       "        length  num_comments          date_posted       id  \n",
       "1            7             0  2023-03-27 22:13:10  1242m5s  \n",
       "2           10             0  2023-03-27 21:56:08  12422ji  \n",
       "3           50             0  2023-03-27 21:51:21  1241x6w  \n",
       "6           45             0  2023-03-27 18:07:27  123v550  \n",
       "7           21             0  2023-03-27 16:27:40  123s7pk  \n",
       "...        ...           ...                  ...      ...  \n",
       "289147      86            13  2010-11-08 19:00:43    e31m1  \n",
       "289148       7             6  2010-11-08 15:07:42    e2xqs  \n",
       "289149       7             6  2010-11-08 14:41:40    e2xdl  \n",
       "289151      31            12  2010-11-07 22:38:51    e2n90  \n",
       "289154      12             0  2010-11-07 14:52:31    e2hqu  \n",
       "\n",
       "[225198 rows x 7 columns]"
      ]
     },
     "execution_count": 11,
     "metadata": {},
     "output_type": "execute_result"
    }
   ],
   "source": [
    "liv_p"
   ]
  },
  {
   "cell_type": "code",
   "execution_count": 17,
   "id": "dc32007a",
   "metadata": {},
   "outputs": [
    {
     "data": {
      "text/plain": [
       "(225198, 7)"
      ]
     },
     "execution_count": 17,
     "metadata": {},
     "output_type": "execute_result"
    }
   ],
   "source": [
    "liv_p.shape"
   ]
  },
  {
   "cell_type": "code",
   "execution_count": 18,
   "id": "013c5325",
   "metadata": {
    "collapsed": true
   },
   "outputs": [
    {
     "data": {
      "text/plain": [
       "This thread is for general football discussion and a place to ask quick questions.\\n\\n- [Recent Match Threads](https://www.reddit.com/r/LiverpoolFC/search?q=flair%3Amatch%2Bthread&amp;sort=new&amp;restrict_sr=on&amp;t=week)\\n- [Full FAQs](https://www.reddit.com/r/LiverpoolFC/wiki/faq)\\n- [Buying Tickets](https://redd.it/6i9ev7)\\n- [Where is showing the match](https://www.reddit.com/r/LiverpoolFC/search?q=Where+to+watch+the+match+in%3F&amp;restrict_sr=on&amp;sort=relevance&amp;t=all)\\n                                                                                                                                                                                                                                                                                                                                                                                                                                                                                                                                                                                                                                                                        356\n",
       "This thread is for general football discussion and a place to ask quick questions.\\n\\n- [Recent Match Threads](https://www.reddit.com/r/LiverpoolFC/search?q=flair%3Amatch%2Bthread&amp;sort=new&amp;restrict_sr=on&amp;t=week)\\n- [Full FAQs](https://www.reddit.com/r/LiverpoolFC/wiki/faq)\\n- [Buying Tickets](https://redd.it/8u0612)\\n- [Guide for new fans](https://www.reddit.com/r/LiverpoolFC/wiki/newfans)\\n- [Where is showing the match](https://www.reddit.com/r/LiverpoolFC/search?q=Where+to+watch+the+match+in%3F&amp;restrict_sr=on&amp;sort=relevance&amp;t=all)\\n- [What channel is the next match on?](https://www.livesoccertv.com/teams/england/liverpool/)\\n- [Discord Server](http://discord.gg/liverpoolfc)\\n- Fantasy Football Code: e0b59n                                                                                                                                                                                                                                                                                                                                                                                                            288\n",
       "This thread is for general football discussion and a place to ask quick questions.\\n\\n- [Recent Match Threads](https://www.reddit.com/r/LiverpoolFC/search?q=flair%3Amatch%2Bthread&amp;sort=new&amp;restrict_sr=on&amp;t=week)\\n- [Full FAQs](https://www.reddit.com/r/LiverpoolFC/wiki/faq)\\n- [Buying Tickets](https://redd.it/8u0612)\\n- [Guide for new fans](https://www.reddit.com/r/LiverpoolFC/wiki/newfans)\\n- [Where is showing the match](https://www.reddit.com/r/LiverpoolFC/search?q=Where+to+watch+the+match+in%3F&amp;restrict_sr=on&amp;sort=relevance&amp;t=all)\\n- [What channel is the next match on?](https://www.livesoccertv.com/teams/england/liverpool/)\\n- Fantasy Football Code: 245879-50345\\n                                                                                                                                                                                                                                                                                                                                                                                                                                                       223\n",
       "\\- [Recent Match Threads](https://www.reddit.com/r/LiverpoolFC/?f=flair_name%3A%22Post%20Match%22)\\n\\n\\- [Full FAQs](https://www.reddit.com/r/LiverpoolFC/wiki/faq)\\n\\n\\- [Buying Tickets](https://redd.it/8u0612)\\n\\n\\- [Guide for new fans](https://www.reddit.com/r/LiverpoolFC/wiki/newfans)\\n\\n\\- [Where is showing the match](https://www.reddit.com/r/LiverpoolFC/search?q=Where+to+watch+the+match+in%3F&amp;restrict_sr=on&amp;sort=relevance&amp;t=all)\\n\\n\\- [What channel is the next match on?](https://www.livesoccertv.com/teams/england/liverpool/)\\n\\n \\- [2020-2021 Charitable Bets](https://old.reddit.com/r/LiverpoolFC/comments/iqg9x3/20202021_charitable_bets/)\\n\\n\\- [YNWSA - Winter 2021](https://old.reddit.com/r/LiverpoolFC/comments/kptlmy/ynwsa_pandemic_edition/?sort=new)\\n\\n \\- Fantasy Football Code 20/21 Season: w0d5rk                                                                                                                                                                                                                                                                                                                      136\n",
       "This thread is for general football discussion and a place to ask quick questions.\\n\\n- [Recent Match Threads](https://www.reddit.com/r/LiverpoolFC/search?q=flair%3Amatch%2Bthread&amp;sort=new&amp;restrict_sr=on&amp;t=week)\\n- [Full FAQs](https://www.reddit.com/r/LiverpoolFC/wiki/faq)\\n- [Buying Tickets](https://redd.it/8u0612)\\n- [Guide for new fans](https://www.reddit.com/r/LiverpoolFC/wiki/newfans)\\n- [Where is showing the match](https://www.reddit.com/r/LiverpoolFC/search?q=Where+to+watch+the+match+in%3F&amp;restrict_sr=on&amp;sort=relevance&amp;t=all)\\n- [What channel is the next match on?](https://www.livesoccertv.com/teams/england/liverpool/)\\n- Fantasy Football Code: 245879-50345                                                                                                                                                                                                                                                                                                                                                                                                                                                         119\n",
       "\\- [Transfer Guide Update Poll](https://old.reddit.com/r/LiverpoolFC/comments/z737la/transfer_tier_guide_update_survey/)\\n\\n\\- [Recent Match Threads](https://www.reddit.com/r/LiverpoolFC/?f=flair_name%3A%22Post%20Match%22)\\n\\n\\- [Full FAQs](https://www.reddit.com/r/LiverpoolFC/wiki/faq)\\n\\n\\- [Buying Tickets](https://redd.it/8u0612)\\n\\n\\- [Guide for new fans](https://www.reddit.com/r/LiverpoolFC/wiki/newfans)\\n\\n\\- [Where is showing the match](https://www.reddit.com/r/LiverpoolFC/search?q=Where+to+watch+the+match+in%3F&amp;restrict_sr=on&amp;sort=relevance&amp;t=all)\\n\\n\\- [What channel is the next match on?](https://www.livesoccertv.com/teams/england/liverpool/)\\n\\n\\- [2022-2023 Charitable Bets](https://www.reddit.com/r/LiverpoolFC/comments/w38az0/20222023_charitable_bets/)\\n\\n\\- [YNWSA- Winter Window 2023](https://www.reddit.com/r/LiverpoolFC/comments/zqonxd/ynwsa_winter_window_2023/)\\n\\n\\-  FPL : 9w7i3j                                                                                                                                                                                                                           89\n",
       "This thread is for general football discussion and a place to ask quick questions.\\n\\n- [Recent Match Threads](https://www.reddit.com/r/LiverpoolFC/search?q=flair%3Amatch%2Bthread&amp;sort=new&amp;restrict_sr=on&amp;t=week)\\n- [Full FAQs](https://www.reddit.com/r/LiverpoolFC/wiki/faq)\\n- [Buying Tickets](https://redd.it/8u0612)\\n- [Guide for new fans](https://www.reddit.com/r/LiverpoolFC/wiki/newfans)\\n- [Where is showing the match](https://www.reddit.com/r/LiverpoolFC/search?q=Where+to+watch+the+match+in%3F&amp;restrict_sr=on&amp;sort=relevance&amp;t=all)\\n- [What channel is the next match on?](https://www.livesoccertv.com/teams/england/liverpool/)\\n- Fantasy Football Code 20/21 Season: w0d5rk\\n- [International Break Thread -Sept 2020](https://www.reddit.com/r/LiverpoolFC/comments/iiwowu/international_break_thread/)\\n- [**YNWSA**](https://www.reddit.com/r/LiverpoolFC/comments/hlthcr/ynwsa_19_times_edition/?utm_source=share&amp;utm_medium=web2x)                                                                                                                                                                                   86\n",
       "\\- [Recent Match Threads](https://www.reddit.com/r/LiverpoolFC/?f=flair_name%3A%22Post%20Match%22)\\n\\n\\- [Full FAQs](https://www.reddit.com/r/LiverpoolFC/wiki/faq)\\n\\n\\- [Buying Tickets](https://redd.it/8u0612)\\n\\n\\- [Guide for new fans](https://www.reddit.com/r/LiverpoolFC/wiki/newfans)\\n\\n\\- [Where is showing the match](https://www.reddit.com/r/LiverpoolFC/search?q=Where+to+watch+the+match+in%3F&amp;restrict_sr=on&amp;sort=relevance&amp;t=all)\\n\\n\\- [What channel is the next match on?](https://www.livesoccertv.com/teams/england/liverpool/)\\n\\n \\- [2021-2022 Charitable Bets](https://www.reddit.com/r/LiverpoolFC/comments/oqwfav/20212022_charitable_bets/)\\n\\n\\- [YNWSA - Great Escape Edition](https://www.reddit.com/r/LiverpoolFC/comments/njw51m/ynwsa_great_escape_edition/?sort=new)\\n\\n\\- FPL code : dfi4cc                                                                                                                                                                                                                                                                                                                                    75\n",
       "This thread is for general football discussion and a place to ask quick questions.\\n\\n- [Recent Match Threads](https://www.reddit.com/r/LiverpoolFC/search?q=flair%3Amatch%2Bthread&amp;sort=new&amp;restrict_sr=on&amp;t=week)\\n- [Full FAQs](https://www.reddit.com/r/LiverpoolFC/wiki/faq)\\n- [Buying Tickets](https://redd.it/8u0612)\\n- [Guide for new fans](https://www.reddit.com/r/LiverpoolFC/wiki/newfans)\\n- [Where is showing the match](https://www.reddit.com/r/LiverpoolFC/search?q=Where+to+watch+the+match+in%3F&amp;restrict_sr=on&amp;sort=relevance&amp;t=all)\\n- [What channel is the next match on?](https://www.livesoccertv.com/teams/england/liverpool/)\\n- Fantasy Football Code: e0b59n                                                                                                                                                                                                                                                                                                                                                                                                                                                                61\n",
       " \\n\\nWe've all recovered from the matchday, we've re-watched the highlights - time to get stuck into the nitty gritty. Formations, buildup play, key players - this is your chance to talk and analyze any aspects of the game. Or if you want to preview the upcoming match, fire away! Think of it as your audition for the Monday Night Football discussion.\\n\\nCheck out work by contributors from our community on this topic in any of the following flairs\\n\\n* [Recent Match Stats and Analysis](https://old.reddit.com/r/LiverpoolFC/search?sort=new&amp;restrict_sr=on&amp;q=flair%3AData%2B%2F%2BStats%2B%2F%2BAnalysis)\\n* [Recent Player Ratings Threads](https://old.reddit.com/r/LiverpoolFC/search?sort=new&amp;restrict_sr=on&amp;q=flair%3APlayer%2BRatings)\\n* [Recent Post Match Threads](https://www.reddit.com/r/LiverpoolFC/?f=flair_name%3A%22Post%20Match%22)\\n* [Where to watch the next game](http://www.livesoccertv.com/teams/england/liverpool/)\\n* [Recent Goals](https://old.reddit.com/r/LiverpoolFC/search?sort=new&amp;restrict_sr=on&amp;q=flair%3AGoal%2B20-21)\\n\\nThis thread is for analysis and non-serious comments will be removed.     56\n",
       "Ethereum Name Service ($ENS) is Airdropping Tokens worth up to 5000$ for the first 1000 People To Claim it.                                                                                                                                                                                                                                                                                                                                                                                                                                                                                                                                                                                                                                                                                                                                                                                                                                                                                                                                                                                                                                                                       51\n",
       "We've all recovered from the weekend, we've rewatched the highlights - time to get stuck into the nitty gritty. Formations, buildup play, key players - this is your chance to talk and analyse any aspects of the game. Or if you want to preview the upcoming match, fire away! Think of it as your audition for the Monday Night Football discussion.\\n\\n- [Post-Match day threads](https://www.reddit.com/r/LiverpoolFC/search?q=flair%3ASerious+%22Post-Match+Day%22&amp;restrict_sr=on&amp;sort=new&amp;t=all)\\n- [Last Match Threads](https://www.reddit.com/r/LiverpoolFC/search?q=flair%3Amatch%2Bthread&amp;sort=new&amp;restrict_sr=on&amp;t=week)\\n- [Football Highlights](http://reddit.com/r/footballhighlights)\\n- [Where to watch the next game](http://www.livesoccertv.com/teams/england/liverpool/)\\n\\nThis thread is for analysis and non-serious comments will be removed.                                                                                                                                                                                                                                                                                   42\n",
       "\\- [Recent Match Threads](https://www.reddit.com/r/LiverpoolFC/?f=flair_name%3A%22Post%20Match%22)\\n\\n\\- [Full FAQs](https://www.reddit.com/r/LiverpoolFC/wiki/faq)\\n\\n\\- [Buying Tickets](https://redd.it/8u0612)\\n\\n\\- [Guide for new fans](https://www.reddit.com/r/LiverpoolFC/wiki/newfans)\\n\\n\\- [Where is showing the match](https://www.reddit.com/r/LiverpoolFC/search?q=Where+to+watch+the+match+in%3F&amp;restrict_sr=on&amp;sort=relevance&amp;t=all)\\n\\n\\- [What channel is the next match on?](https://www.livesoccertv.com/teams/england/liverpool/)\\n\\n \\- [2020-2021 Charitable Bets](https://old.reddit.com/r/LiverpoolFC/comments/iqg9x3/20202021_charitable_bets/)\\n\\n\\- [YNWSA - Great Escape Edition](https://www.reddit.com/r/LiverpoolFC/comments/njw51m/ynwsa_great_escape_edition/?sort=new)\\n\\n\\- [Copa America and European Championship Mega thread](https://www.reddit.com/r/LiverpoolFC/comments/nn7ow7/copa_america_and_european_championship_megathread/)\\n\\n\\- FPL code : dfi4cc                                                                                                                                                                32\n",
       "We've all recovered from the weekend, we've rewatched the highlights - time to get stuck into the nitty gritty. Formations, buildup play, key players - this is your chance to talk and analyse any aspects of the game. Or if you want to preview the upcoming match, fire away! Think of it as your audition for the Monday Night Football discussion.\\n\\n- [Post-Match day threads](https://www.reddit.com/r/LiverpoolFC/search?q=flair%3ASerious+%22Post-Match+Day%22&amp;restrict_sr=on&amp;sort=new&amp;t=all)\\n- [Last Match Threads](https://www.reddit.com/r/LiverpoolFC/search?q=flair%3Amatch%2Bthread&amp;sort=new&amp;restrict_sr=on&amp;t=week)\\n- [Football Highlights](http://reddit.com/r/footballhighlights)\\n- [Where to watch the next game](http://www.livesoccertv.com/teams/england/liverpool/)\\n                                                                                                                                                                                                                                                                                                                                                          30\n",
       "\\- [Recent Match Threads](https://www.reddit.com/r/LiverpoolFC/?f=flair_name%3A%22Post%20Match%22)\\n\\n\\- [Full FAQs](https://www.reddit.com/r/LiverpoolFC/wiki/faq)\\n\\n\\- [Buying Tickets](https://redd.it/8u0612)\\n\\n\\- [Guide for new fans](https://www.reddit.com/r/LiverpoolFC/wiki/newfans)\\n\\n\\- [Where is showing the match](https://www.reddit.com/r/LiverpoolFC/search?q=Where+to+watch+the+match+in%3F&amp;restrict_sr=on&amp;sort=relevance&amp;t=all)\\n\\n\\- [What channel is the next match on?](https://www.livesoccertv.com/teams/england/liverpool/)\\n\\n\\- [2022-2023 Charitable Bets](https://www.reddit.com/r/LiverpoolFC/comments/w38az0/20222023_charitable_bets/)\\n\\n\\- [YNWSA- Summer Window 2022](https://www.reddit.com/r/LiverpoolFC/comments/v0xad6/ynwsa_summer_window_2022/)\\n\\n\\-  FPL : 9w7i3j                                                                                                                                                                                                                                                                                                                                                       29\n",
       "This will burn your belly fat! To lose 16 pounds in 3 days, every night ...'                                                                                                                                                                                                                                                                                                                                                                                                                                                                                                                                                                                                                                                                                                                                                                                                                                                                                                                                                                                                                                                                                                      27\n",
       "[ Removed by reddit in response to a copyright notice. ]                                                                                                                                                                                                                                                                                                                                                                                                                                                                                                                                                                                                                                                                                                                                                                                                                                                                                                                                                                                                                                                                                                                          26\n",
       "\\- [Recent Match Threads](https://www.reddit.com/r/LiverpoolFC/?f=flair_name%3A%22Post%20Match%22)\\n\\n\\- [Full FAQs](https://www.reddit.com/r/LiverpoolFC/wiki/faq)\\n\\n\\- [Buying Tickets](https://redd.it/8u0612)\\n\\n\\- [Guide for new fans](https://www.reddit.com/r/LiverpoolFC/wiki/newfans)\\n\\n\\- [Where is showing the match](https://www.reddit.com/r/LiverpoolFC/search?q=Where+to+watch+the+match+in%3F&amp;restrict_sr=on&amp;sort=relevance&amp;t=all)\\n\\n\\- [What channel is the next match on?](https://www.livesoccertv.com/teams/england/liverpool/)\\n\\n \\- [2020-2021 Charitable Bets](https://old.reddit.com/r/LiverpoolFC/comments/iqg9x3/20202021_charitable_bets/)\\n\\n\\- [YNWSA - Great Escape Edition](https://www.reddit.com/r/LiverpoolFC/comments/njw51m/ynwsa_great_escape_edition/?sort=new)\\n\\n\\- [Copa America and European Championship Mega thread](https://www.reddit.com/r/LiverpoolFC/comments/nn7ow7/copa_america_and_european_championship_megathread/)                                                                                                                                                                                        26\n",
       "Which one of you did this?                                                                                                                                                                                                                                                                                                                                                                                                                                                                                                                                                                                                                                                                                                                                                                                                                                                                                                                                                                                                                                                                                                                                                        24\n",
       "Lets use this as a discussion thread for International football. \\n\\nFor Liverpool specific player information, click below link:\\n\\n[Daily Match Summary Thread](https://www.reddit.com/r/LiverpoolFC/comments/nn7ow7/copa_america_and_european_championship_megathread/)\\n\\n[YNWSA - Summer Transfer Thread](https://www.reddit.com/r/LiverpoolFC/comments/njw51m/ynwsa_great_escape_edition/?sort=new)\\n\\n&amp;#x200B;\\n\\n*Note: If a user creates Liverpool player specific watch thread, it will have priority over this thread.*                                                                                                                                                                                                                                                                                                                                                                                                                                                                                                                                                                                                                                            24\n",
       "Ferrari's new NFT collection is Live. 800 NFTs for the first 800 people.                                                                                                                                                                                                                                                                                                                                                                                                                                                                                                                                                                                                                                                                                                                                                                                                                                                                                                                                                                                                                                                                                                          20\n",
       "This thread is for general football discussion and a place to ask quick questions.\\n\\nFollow us on [Twitter](https://twitter.com/rliverpoolfc)! \\n\\n- [Recent Match Threads](https://www.reddit.com/r/LiverpoolFC/search?q=flair%3Amatch%2Bthread&amp;sort=new&amp;restrict_sr=on&amp;t=week)\\n- [Full FAQs](https://www.reddit.com/r/LiverpoolFC/wiki/faq)\\n- [Buying Tickets](https://redd.it/8u0612)\\n- [Guide for new fans](https://www.reddit.com/r/LiverpoolFC/wiki/newfans)\\n- [Where is showing the match](https://www.reddit.com/r/LiverpoolFC/search?q=Where+to+watch+the+match+in%3F&amp;restrict_sr=on&amp;sort=relevance&amp;t=all)\\n- [What channel is the next match on?](https://www.livesoccertv.com/teams/england/liverpool/)\\n- [Discord Server](http://discord.gg/liverpoolfc)\\n- Fantasy Football Code: e0b59n                                                                                                                                                                                                                                                                                                                                               19\n",
       "We've all recovered from the weekend, we've rewatched the highlights - time to get stuck into the nitty gritty. Formations, buildup play, key players - this is your chance to talk and analyse any aspects of the game. Or if you want to preview the upcoming match, fire away! Think of it as your audition for the Monday Night Football discussion.\\n\\n- [Post-Match day threads](https://www.reddit.com/r/LiverpoolFC/search?q=flair%3ASerious+%22Post-Match+Day%22&amp;restrict_sr=on&amp;sort=new&amp;t=all)\\n- [Last Match Threads](https://www.reddit.com/r/LiverpoolFC/search?q=flair%3Amatch%2Bthread&amp;sort=new&amp;restrict_sr=on&amp;t=week)\\n- [Football Highlights](http://reddit.com/r/footballhighlights)\\n- [Where to watch the next game](http://www.livesoccertv.com/teams/england/liverpool/)                                                                                                                                                                                                                                                                                                                                                            17\n",
       "How many days until the final?                                                                                                                                                                                                                                                                                                                                                                                                                                                                                                                                                                                                                                                                                                                                                                                                                                                                                                                                                                                                                                                                                                                                                    17\n",
       "FIFA 19 [Online Game Code] is 50% OFF                                                                                                                                                                                                                                                                                                                                                                                                                                                                                                                                                                                                                                                                                                                                                                                                                                                                                                                                                                                                                                                                                                                                             17\n",
       "\\- [Transfer Guide Update Poll](https://old.reddit.com/r/LiverpoolFC/comments/z737la/transfer_tier_guide_update_survey/)\\n\\n\\- [Recent Match Threads](https://www.reddit.com/r/LiverpoolFC/?f=flair_name%3A%22Post%20Match%22)\\n\\n\\- [Full FAQs](https://www.reddit.com/r/LiverpoolFC/wiki/faq)\\n\\n\\- [Buying Tickets](https://redd.it/8u0612)\\n\\n\\- [Guide for new fans](https://www.reddit.com/r/LiverpoolFC/wiki/newfans)\\n\\n\\- [Where is showing the match](https://www.reddit.com/r/LiverpoolFC/search?q=Where+to+watch+the+match+in%3F&amp;restrict_sr=on&amp;sort=relevance&amp;t=all)\\n\\n\\- [What channel is the next match on?](https://www.livesoccertv.com/teams/england/liverpool/)\\n\\n\\- [2022-2023 Charitable Bets](https://www.reddit.com/r/LiverpoolFC/comments/w38az0/20222023_charitable_bets/)\\n\\n\\- [YNWSA- Summer Window 2022](https://www.reddit.com/r/LiverpoolFC/comments/v0xad6/ynwsa_summer_window_2022/)\\n\\n\\-  FPL : 9w7i3j                                                                                                                                                                                                                           16\n",
       "Liverpool FC Champions OF England YNWA !!                                                                                                                                                                                                                                                                                                                                                                                                                                                                                                                                                                                                                                                                                                                                                                                                                                                                                                                                                                                                                                                                                                                                         16\n",
       "Rolls Royce's new NFT collection is Live! 800 NFTs for the first 800 people!                                                                                                                                                                                                                                                                                                                                                                                                                                                                                                                                                                                                                                                                                                                                                                                                                                                                                                                                                                                                                                                                                                      13\n",
       "Name: body, dtype: int64"
      ]
     },
     "execution_count": 18,
     "metadata": {},
     "output_type": "execute_result"
    }
   ],
   "source": [
    "liv_p.body.value_counts().loc[lambda x: x> 10].sort_values(ascending = False)"
   ]
  },
  {
   "cell_type": "code",
   "execution_count": 20,
   "id": "27a702b3",
   "metadata": {},
   "outputs": [],
   "source": [
    "liv_p.drop_duplicates(keep='first', inplace = True)"
   ]
  },
  {
   "cell_type": "code",
   "execution_count": null,
   "id": "04704d90",
   "metadata": {},
   "outputs": [],
   "source": []
  },
  {
   "cell_type": "code",
   "execution_count": 21,
   "id": "5e195c8f",
   "metadata": {},
   "outputs": [],
   "source": [
    "liv_one.to_csv('liv_one.csv', index = False)\n",
    "liv_p.to_csv('liv_final.csv', index = False)"
   ]
  }
 ],
 "metadata": {
  "kernelspec": {
   "display_name": "Python 3 (ipykernel)",
   "language": "python",
   "name": "python3"
  },
  "language_info": {
   "codemirror_mode": {
    "name": "ipython",
    "version": 3
   },
   "file_extension": ".py",
   "mimetype": "text/x-python",
   "name": "python",
   "nbconvert_exporter": "python",
   "pygments_lexer": "ipython3",
   "version": "3.9.13"
  }
 },
 "nbformat": 4,
 "nbformat_minor": 5
}

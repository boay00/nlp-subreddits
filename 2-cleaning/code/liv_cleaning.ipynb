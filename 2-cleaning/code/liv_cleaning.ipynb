{
 "cells": [
  {
   "cell_type": "markdown",
   "id": "969710ed",
   "metadata": {},
   "source": [
    "# 2 - Cleaning -  LiverpoolFC"
   ]
  },
  {
   "cell_type": "code",
   "execution_count": 4,
   "id": "37cf4266",
   "metadata": {},
   "outputs": [],
   "source": [
    "# imports\n",
    "import pandas as pd\n",
    "import numpy as np\n"
   ]
  },
  {
   "cell_type": "code",
   "execution_count": 5,
   "id": "724ed7ac",
   "metadata": {},
   "outputs": [],
   "source": [
    "liv_p = pd.read_csv('../../1-data-collection/datasets/liv_posts.csv')"
   ]
  },
  {
   "cell_type": "code",
   "execution_count": 6,
   "id": "18a5b831",
   "metadata": {},
   "outputs": [],
   "source": [
    "liv_p.dropna(inplace = True)"
   ]
  },
  {
   "cell_type": "code",
   "execution_count": 7,
   "id": "9c1082db",
   "metadata": {},
   "outputs": [
    {
     "data": {
      "text/html": [
       "<div>\n",
       "<style scoped>\n",
       "    .dataframe tbody tr th:only-of-type {\n",
       "        vertical-align: middle;\n",
       "    }\n",
       "\n",
       "    .dataframe tbody tr th {\n",
       "        vertical-align: top;\n",
       "    }\n",
       "\n",
       "    .dataframe thead th {\n",
       "        text-align: right;\n",
       "    }\n",
       "</style>\n",
       "<table border=\"1\" class=\"dataframe\">\n",
       "  <thead>\n",
       "    <tr style=\"text-align: right;\">\n",
       "      <th></th>\n",
       "      <th>subreddit</th>\n",
       "      <th>selftext</th>\n",
       "      <th>score</th>\n",
       "      <th>length</th>\n",
       "      <th>num_comments</th>\n",
       "      <th>utc_datetime_str</th>\n",
       "      <th>id</th>\n",
       "    </tr>\n",
       "  </thead>\n",
       "  <tbody>\n",
       "    <tr>\n",
       "      <th>0</th>\n",
       "      <td>LiverpoolFC</td>\n",
       "      <td>Conor Bradley won the EFL Trophy with Bolton W...</td>\n",
       "      <td>1.0</td>\n",
       "      <td>25.0</td>\n",
       "      <td>0</td>\n",
       "      <td>2023-04-02 17:05:26</td>\n",
       "      <td>129r8dh</td>\n",
       "    </tr>\n",
       "  </tbody>\n",
       "</table>\n",
       "</div>"
      ],
      "text/plain": [
       "     subreddit                                           selftext  score  \\\n",
       "0  LiverpoolFC  Conor Bradley won the EFL Trophy with Bolton W...    1.0   \n",
       "\n",
       "   length num_comments     utc_datetime_str       id  \n",
       "0    25.0            0  2023-04-02 17:05:26  129r8dh  "
      ]
     },
     "execution_count": 7,
     "metadata": {},
     "output_type": "execute_result"
    }
   ],
   "source": [
    "liv_p.head(1)"
   ]
  },
  {
   "cell_type": "code",
   "execution_count": 10,
   "id": "018db7f4",
   "metadata": {},
   "outputs": [],
   "source": [
    "liv_p.rename(columns = {\n",
    "    'date posted' : 'date_posted',\n",
    "    'selftext' : 'body'\n",
    "}, inplace = True)"
   ]
  },
  {
   "cell_type": "code",
   "execution_count": 42,
   "id": "2dd4b628",
   "metadata": {
    "scrolled": true
   },
   "outputs": [
    {
     "data": {
      "text/html": [
       "<div>\n",
       "<style scoped>\n",
       "    .dataframe tbody tr th:only-of-type {\n",
       "        vertical-align: middle;\n",
       "    }\n",
       "\n",
       "    .dataframe tbody tr th {\n",
       "        vertical-align: top;\n",
       "    }\n",
       "\n",
       "    .dataframe thead th {\n",
       "        text-align: right;\n",
       "    }\n",
       "</style>\n",
       "<table border=\"1\" class=\"dataframe\">\n",
       "  <thead>\n",
       "    <tr style=\"text-align: right;\">\n",
       "      <th></th>\n",
       "      <th>subreddit</th>\n",
       "      <th>body</th>\n",
       "      <th>score</th>\n",
       "      <th>length</th>\n",
       "      <th>num_comments</th>\n",
       "      <th>utc_datetime_str</th>\n",
       "      <th>id</th>\n",
       "    </tr>\n",
       "  </thead>\n",
       "  <tbody>\n",
       "    <tr>\n",
       "      <th>0</th>\n",
       "      <td>LiverpoolFC</td>\n",
       "      <td>Conor Bradley won the EFL Trophy with Bolton W...</td>\n",
       "      <td>1.0</td>\n",
       "      <td>25</td>\n",
       "      <td>0</td>\n",
       "      <td>2023-04-02 17:05:26</td>\n",
       "      <td>129r8dh</td>\n",
       "    </tr>\n",
       "    <tr>\n",
       "      <th>1</th>\n",
       "      <td>LiverpoolFC</td>\n",
       "      <td>Liverpool FC Women Here's how we line up to ta...</td>\n",
       "      <td>1.0</td>\n",
       "      <td>13</td>\n",
       "      <td>0</td>\n",
       "      <td>2023-04-02 16:17:05</td>\n",
       "      <td>129pvzf</td>\n",
       "    </tr>\n",
       "    <tr>\n",
       "      <th>2</th>\n",
       "      <td>LiverpoolFC</td>\n",
       "      <td>Premier League Panel on Twitter ‘3 key differe...</td>\n",
       "      <td>1.0</td>\n",
       "      <td>23</td>\n",
       "      <td>0</td>\n",
       "      <td>2023-04-02 15:38:46</td>\n",
       "      <td>129ot17</td>\n",
       "    </tr>\n",
       "    <tr>\n",
       "      <th>3</th>\n",
       "      <td>LiverpoolFC</td>\n",
       "      <td>£34m Liverpool star has told former teammates ...</td>\n",
       "      <td>1.0</td>\n",
       "      <td>14</td>\n",
       "      <td>0</td>\n",
       "      <td>2023-04-02 15:38:00</td>\n",
       "      <td>129os8c</td>\n",
       "    </tr>\n",
       "    <tr>\n",
       "      <th>4</th>\n",
       "      <td>LiverpoolFC</td>\n",
       "      <td>[Official] Leicester City Football Club has re...</td>\n",
       "      <td>1.0</td>\n",
       "      <td>20</td>\n",
       "      <td>0</td>\n",
       "      <td>2023-04-02 14:20:12</td>\n",
       "      <td>129mnkk</td>\n",
       "    </tr>\n",
       "  </tbody>\n",
       "</table>\n",
       "</div>"
      ],
      "text/plain": [
       "     subreddit                                               body  score  \\\n",
       "0  LiverpoolFC  Conor Bradley won the EFL Trophy with Bolton W...    1.0   \n",
       "1  LiverpoolFC  Liverpool FC Women Here's how we line up to ta...    1.0   \n",
       "2  LiverpoolFC  Premier League Panel on Twitter ‘3 key differe...    1.0   \n",
       "3  LiverpoolFC  £34m Liverpool star has told former teammates ...    1.0   \n",
       "4  LiverpoolFC  [Official] Leicester City Football Club has re...    1.0   \n",
       "\n",
       "   length num_comments     utc_datetime_str       id  \n",
       "0      25            0  2023-04-02 17:05:26  129r8dh  \n",
       "1      13            0  2023-04-02 16:17:05  129pvzf  \n",
       "2      23            0  2023-04-02 15:38:46  129ot17  \n",
       "3      14            0  2023-04-02 15:38:00  129os8c  \n",
       "4      20            0  2023-04-02 14:20:12  129mnkk  "
      ]
     },
     "execution_count": 42,
     "metadata": {},
     "output_type": "execute_result"
    }
   ],
   "source": [
    "liv_p.head()"
   ]
  },
  {
   "cell_type": "code",
   "execution_count": 19,
   "id": "dc32007a",
   "metadata": {},
   "outputs": [
    {
     "data": {
      "text/plain": [
       "(144191, 7)"
      ]
     },
     "execution_count": 19,
     "metadata": {},
     "output_type": "execute_result"
    }
   ],
   "source": [
    "liv_p.shape"
   ]
  },
  {
   "cell_type": "code",
   "execution_count": 20,
   "id": "013c5325",
   "metadata": {},
   "outputs": [
    {
     "data": {
      "text/plain": [
       "This thread is for general football discussion and a place to ask quick questions.\\n\\n- [Recent Match Threads](https://www.reddit.com/r/LiverpoolFC/search?q=flair%3Amatch%2Bthread&amp;sort=new&amp;restrict_sr=on&amp;t=week)\\n- [Full FAQs](https://www.reddit.com/r/LiverpoolFC/wiki/faq)\\n- [Buying Tickets](https://redd.it/6i9ev7)\\n- [Where is showing the match](https://www.reddit.com/r/LiverpoolFC/search?q=Where+to+watch+the+match+in%3F&amp;restrict_sr=on&amp;sort=relevance&amp;t=all)\\n                                                                                                                                                                                                                                                                                                                                                                                                                                                                                                                                                                                                                                                                        346\n",
       "This thread is for general football discussion and a place to ask quick questions.\\n\\n- [Recent Match Threads](https://www.reddit.com/r/LiverpoolFC/search?q=flair%3Amatch%2Bthread&amp;sort=new&amp;restrict_sr=on&amp;t=week)\\n- [Full FAQs](https://www.reddit.com/r/LiverpoolFC/wiki/faq)\\n- [Buying Tickets](https://redd.it/8u0612)\\n- [Guide for new fans](https://www.reddit.com/r/LiverpoolFC/wiki/newfans)\\n- [Where is showing the match](https://www.reddit.com/r/LiverpoolFC/search?q=Where+to+watch+the+match+in%3F&amp;restrict_sr=on&amp;sort=relevance&amp;t=all)\\n- [What channel is the next match on?](https://www.livesoccertv.com/teams/england/liverpool/)\\n- [Discord Server](http://discord.gg/liverpoolfc)\\n- Fantasy Football Code: e0b59n                                                                                                                                                                                                                                                                                                                                                                                                            295\n",
       "This thread is for general football discussion and a place to ask quick questions.\\n\\n- [Recent Match Threads](https://www.reddit.com/r/LiverpoolFC/search?q=flair%3Amatch%2Bthread&amp;sort=new&amp;restrict_sr=on&amp;t=week)\\n- [Full FAQs](https://www.reddit.com/r/LiverpoolFC/wiki/faq)\\n- [Buying Tickets](https://redd.it/8u0612)\\n- [Guide for new fans](https://www.reddit.com/r/LiverpoolFC/wiki/newfans)\\n- [Where is showing the match](https://www.reddit.com/r/LiverpoolFC/search?q=Where+to+watch+the+match+in%3F&amp;restrict_sr=on&amp;sort=relevance&amp;t=all)\\n- [What channel is the next match on?](https://www.livesoccertv.com/teams/england/liverpool/)\\n- Fantasy Football Code: 245879-50345\\n                                                                                                                                                                                                                                                                                                                                                                                                                                                       209\n",
       "\\- [Recent Match Threads](https://www.reddit.com/r/LiverpoolFC/?f=flair_name%3A%22Post%20Match%22)\\n\\n\\- [Full FAQs](https://www.reddit.com/r/LiverpoolFC/wiki/faq)\\n\\n\\- [Buying Tickets](https://redd.it/8u0612)\\n\\n\\- [Guide for new fans](https://www.reddit.com/r/LiverpoolFC/wiki/newfans)\\n\\n\\- [Where is showing the match](https://www.reddit.com/r/LiverpoolFC/search?q=Where+to+watch+the+match+in%3F&amp;restrict_sr=on&amp;sort=relevance&amp;t=all)\\n\\n\\- [What channel is the next match on?](https://www.livesoccertv.com/teams/england/liverpool/)\\n\\n \\- [2021-2022 Charitable Bets](https://www.reddit.com/r/LiverpoolFC/comments/oqwfav/20212022_charitable_bets/)\\n\\n\\- [YNWSA - Great Escape Edition](https://www.reddit.com/r/LiverpoolFC/comments/njw51m/ynwsa_great_escape_edition/?sort=new)\\n\\n\\- FPL code : dfi4cc                                                                                                                                                                                                                                                                                                                                   165\n",
       "\\- [Recent Match Threads](https://www.reddit.com/r/LiverpoolFC/?f=flair_name%3A%22Post%20Match%22)\\n\\n\\- [Full FAQs](https://www.reddit.com/r/LiverpoolFC/wiki/faq)\\n\\n\\- [Buying Tickets](https://redd.it/8u0612)\\n\\n\\- [Guide for new fans](https://www.reddit.com/r/LiverpoolFC/wiki/newfans)\\n\\n\\- [Where is showing the match](https://www.reddit.com/r/LiverpoolFC/search?q=Where+to+watch+the+match+in%3F&amp;restrict_sr=on&amp;sort=relevance&amp;t=all)\\n\\n\\- [What channel is the next match on?](https://www.livesoccertv.com/teams/england/liverpool/)\\n\\n \\- [2021-2022 Charitable Bets](https://www.reddit.com/r/LiverpoolFC/comments/oqwfav/20212022_charitable_bets/)\\n\\n\\- [YNWSA- Winter Window 2022](https://www.reddit.com/r/LiverpoolFC/comments/rv231l/ynwsa_winter_window_2022/)\\n\\n\\- FPL code : dfi4cc                                                                                                                                                                                                                                                                                                                                                 142\n",
       "\\- [Recent Match Threads](https://www.reddit.com/r/LiverpoolFC/?f=flair_name%3A%22Post%20Match%22)\\n\\n\\- [Full FAQs](https://www.reddit.com/r/LiverpoolFC/wiki/faq)\\n\\n\\- [Buying Tickets](https://redd.it/8u0612)\\n\\n\\- [Guide for new fans](https://www.reddit.com/r/LiverpoolFC/wiki/newfans)\\n\\n\\- [Where is showing the match](https://www.reddit.com/r/LiverpoolFC/search?q=Where+to+watch+the+match+in%3F&amp;restrict_sr=on&amp;sort=relevance&amp;t=all)\\n\\n\\- [What channel is the next match on?](https://www.livesoccertv.com/teams/england/liverpool/)\\n\\n \\- [2020-2021 Charitable Bets](https://old.reddit.com/r/LiverpoolFC/comments/iqg9x3/20202021_charitable_bets/)\\n\\n\\- [YNWSA - Winter 2021](https://old.reddit.com/r/LiverpoolFC/comments/kptlmy/ynwsa_pandemic_edition/?sort=new)\\n\\n \\- Fantasy Football Code 20/21 Season: w0d5rk                                                                                                                                                                                                                                                                                                                      136\n",
       "This thread is for general football discussion and a place to ask quick questions.\\n\\n- [Recent Match Threads](https://www.reddit.com/r/LiverpoolFC/search?q=flair%3Amatch%2Bthread&amp;sort=new&amp;restrict_sr=on&amp;t=week)\\n- [Full FAQs](https://www.reddit.com/r/LiverpoolFC/wiki/faq)\\n- [Buying Tickets](https://redd.it/8u0612)\\n- [Guide for new fans](https://www.reddit.com/r/LiverpoolFC/wiki/newfans)\\n- [Where is showing the match](https://www.reddit.com/r/LiverpoolFC/search?q=Where+to+watch+the+match+in%3F&amp;restrict_sr=on&amp;sort=relevance&amp;t=all)\\n- [What channel is the next match on?](https://www.livesoccertv.com/teams/england/liverpool/)\\n- Fantasy Football Code: 245879-50345                                                                                                                                                                                                                                                                                                                                                                                                                                                         119\n",
       " \\n\\nWe've all recovered from the matchday, we've re-watched the highlights - time to get stuck into the nitty gritty. Formations, buildup play, key players - this is your chance to talk and analyze any aspects of the game. Or if you want to preview the upcoming match, fire away! Think of it as your audition for the Monday Night Football discussion.\\n\\nCheck out work by contributors from our community on this topic in any of the following flairs\\n\\n* [Recent Match Stats and Analysis](https://old.reddit.com/r/LiverpoolFC/search?sort=new&amp;restrict_sr=on&amp;q=flair%3AData%2B%2F%2BStats%2B%2F%2BAnalysis)\\n* [Recent Player Ratings Threads](https://old.reddit.com/r/LiverpoolFC/search?sort=new&amp;restrict_sr=on&amp;q=flair%3APlayer%2BRatings)\\n* [Recent Post Match Threads](https://www.reddit.com/r/LiverpoolFC/?f=flair_name%3A%22Post%20Match%22)\\n* [Where to watch the next game](http://www.livesoccertv.com/teams/england/liverpool/)\\n* [Recent Goals](https://old.reddit.com/r/LiverpoolFC/search?sort=new&amp;restrict_sr=on&amp;q=flair%3AGoal%2B20-21)\\n\\nThis thread is for analysis and non-serious comments will be removed.    104\n",
       "\\- [Transfer Guide Update Poll](https://old.reddit.com/r/LiverpoolFC/comments/z737la/transfer_tier_guide_update_survey/)\\n\\n\\- [Recent Match Threads](https://www.reddit.com/r/LiverpoolFC/?f=flair_name%3A%22Post%20Match%22)\\n\\n\\- [Full FAQs](https://www.reddit.com/r/LiverpoolFC/wiki/faq)\\n\\n\\- [Buying Tickets](https://redd.it/8u0612)\\n\\n\\- [Guide for new fans](https://www.reddit.com/r/LiverpoolFC/wiki/newfans)\\n\\n\\- [Where is showing the match](https://www.reddit.com/r/LiverpoolFC/search?q=Where+to+watch+the+match+in%3F&amp;restrict_sr=on&amp;sort=relevance&amp;t=all)\\n\\n\\- [What channel is the next match on?](https://www.livesoccertv.com/teams/england/liverpool/)\\n\\n\\- [2022-2023 Charitable Bets](https://www.reddit.com/r/LiverpoolFC/comments/w38az0/20222023_charitable_bets/)\\n\\n\\- [YNWSA- Winter Window 2023](https://www.reddit.com/r/LiverpoolFC/comments/zqonxd/ynwsa_winter_window_2023/)\\n\\n\\-  FPL : 9w7i3j                                                                                                                                                                                                                           95\n",
       "This thread is for general football discussion and a place to ask quick questions.\\n\\n- [Recent Match Threads](https://www.reddit.com/r/LiverpoolFC/search?q=flair%3Amatch%2Bthread&amp;sort=new&amp;restrict_sr=on&amp;t=week)\\n- [Full FAQs](https://www.reddit.com/r/LiverpoolFC/wiki/faq)\\n- [Buying Tickets](https://redd.it/8u0612)\\n- [Guide for new fans](https://www.reddit.com/r/LiverpoolFC/wiki/newfans)\\n- [Where is showing the match](https://www.reddit.com/r/LiverpoolFC/search?q=Where+to+watch+the+match+in%3F&amp;restrict_sr=on&amp;sort=relevance&amp;t=all)\\n- [What channel is the next match on?](https://www.livesoccertv.com/teams/england/liverpool/)\\n- Fantasy Football Code 20/21 Season: w0d5rk\\n- [International Break Thread -Sept 2020](https://www.reddit.com/r/LiverpoolFC/comments/iiwowu/international_break_thread/)\\n- [**YNWSA**](https://www.reddit.com/r/LiverpoolFC/comments/hlthcr/ynwsa_19_times_edition/?utm_source=share&amp;utm_medium=web2x)                                                                                                                                                                                   86\n",
       "This thread is for general football discussion and a place to ask quick questions.\\n\\n- [Recent Match Threads](https://www.reddit.com/r/LiverpoolFC/search?q=flair%3Amatch%2Bthread&amp;sort=new&amp;restrict_sr=on&amp;t=week)\\n- [Full FAQs](https://www.reddit.com/r/LiverpoolFC/wiki/faq)\\n- [Buying Tickets](https://redd.it/8u0612)\\n- [Guide for new fans](https://www.reddit.com/r/LiverpoolFC/wiki/newfans)\\n- [Where is showing the match](https://www.reddit.com/r/LiverpoolFC/search?q=Where+to+watch+the+match+in%3F&amp;restrict_sr=on&amp;sort=relevance&amp;t=all)\\n- [What channel is the next match on?](https://www.livesoccertv.com/teams/england/liverpool/)\\n- Fantasy Football Code: e0b59n                                                                                                                                                                                                                                                                                                                                                                                                                                                                61\n",
       "\\- [Recent Match Threads](https://www.reddit.com/r/LiverpoolFC/?f=flair_name%3A%22Post%20Match%22)\\n\\n\\- [Full FAQs](https://www.reddit.com/r/LiverpoolFC/wiki/faq)\\n\\n\\- [Buying Tickets](https://redd.it/8u0612)\\n\\n\\- [Guide for new fans](https://www.reddit.com/r/LiverpoolFC/wiki/newfans)\\n\\n\\- [Where is showing the match](https://www.reddit.com/r/LiverpoolFC/search?q=Where+to+watch+the+match+in%3F&amp;restrict_sr=on&amp;sort=relevance&amp;t=all)\\n\\n\\- [What channel is the next match on?](https://www.livesoccertv.com/teams/england/liverpool/)\\n\\n\\- [2022-2023 Charitable Bets](https://www.reddit.com/r/LiverpoolFC/comments/w38az0/20222023_charitable_bets/)\\n\\n\\- [YNWSA- Summer Window 2022](https://www.reddit.com/r/LiverpoolFC/comments/v0xad6/ynwsa_summer_window_2022/)\\n\\n\\-  FPL : 9w7i3j                                                                                                                                                                                                                                                                                                                                                       56\n",
       "Ethereum Name Service ($ENS) is Airdropping Tokens worth up to 5000$ for the first 1000 People To Claim it.                                                                                                                                                                                                                                                                                                                                                                                                                                                                                                                                                                                                                                                                                                                                                                                                                                                                                                                                                                                                                                                                       51\n",
       "\\- [Recent Match Threads](https://www.reddit.com/r/LiverpoolFC/?f=flair_name%3A%22Post%20Match%22)\\n\\n\\- [Full FAQs](https://www.reddit.com/r/LiverpoolFC/wiki/faq)\\n\\n\\- [Buying Tickets](https://redd.it/8u0612)\\n\\n\\- [Guide for new fans](https://www.reddit.com/r/LiverpoolFC/wiki/newfans)\\n\\n\\- [Where is showing the match](https://www.reddit.com/r/LiverpoolFC/search?q=Where+to+watch+the+match+in%3F&amp;restrict_sr=on&amp;sort=relevance&amp;t=all)\\n\\n\\- [What channel is the next match on?](https://www.livesoccertv.com/teams/england/liverpool/)\\n\\n \\- [2021-2022 Charitable Bets](https://www.reddit.com/r/LiverpoolFC/comments/oqwfav/20212022_charitable_bets/)\\n\\n\\- [YNWSA- Summer Window 2022](https://www.reddit.com/r/LiverpoolFC/comments/v0xad6/ynwsa_summer_window_2022/)                                                                                                                                                                                                                                                                                                                                                                          48\n",
       "We've all recovered from the weekend, we've rewatched the highlights - time to get stuck into the nitty gritty. Formations, buildup play, key players - this is your chance to talk and analyse any aspects of the game. Or if you want to preview the upcoming match, fire away! Think of it as your audition for the Monday Night Football discussion.\\n\\n- [Post-Match day threads](https://www.reddit.com/r/LiverpoolFC/search?q=flair%3ASerious+%22Post-Match+Day%22&amp;restrict_sr=on&amp;sort=new&amp;t=all)\\n- [Last Match Threads](https://www.reddit.com/r/LiverpoolFC/search?q=flair%3Amatch%2Bthread&amp;sort=new&amp;restrict_sr=on&amp;t=week)\\n- [Football Highlights](http://reddit.com/r/footballhighlights)\\n- [Where to watch the next game](http://www.livesoccertv.com/teams/england/liverpool/)\\n\\nThis thread is for analysis and non-serious comments will be removed.                                                                                                                                                                                                                                                                                   43\n",
       "\\- [Recent Match Threads](https://www.reddit.com/r/LiverpoolFC/?f=flair_name%3A%22Post%20Match%22)\\n\\n\\- [Full FAQs](https://www.reddit.com/r/LiverpoolFC/wiki/faq)\\n\\n\\- [Buying Tickets](https://redd.it/8u0612)\\n\\n\\- [Guide for new fans](https://www.reddit.com/r/LiverpoolFC/wiki/newfans)\\n\\n\\- [Where is showing the match](https://www.reddit.com/r/LiverpoolFC/search?q=Where+to+watch+the+match+in%3F&amp;restrict_sr=on&amp;sort=relevance&amp;t=all)\\n\\n\\- [What channel is the next match on?](https://www.livesoccertv.com/teams/england/liverpool/)\\n\\n \\- [2020-2021 Charitable Bets](https://old.reddit.com/r/LiverpoolFC/comments/iqg9x3/20202021_charitable_bets/)\\n\\n\\- [YNWSA - Great Escape Edition](https://www.reddit.com/r/LiverpoolFC/comments/njw51m/ynwsa_great_escape_edition/?sort=new)\\n\\n\\- [Copa America and European Championship Mega thread](https://www.reddit.com/r/LiverpoolFC/comments/nn7ow7/copa_america_and_european_championship_megathread/)\\n\\n\\- FPL code : dfi4cc                                                                                                                                                                32\n",
       "We've all recovered from the weekend, we've rewatched the highlights - time to get stuck into the nitty gritty. Formations, buildup play, key players - this is your chance to talk and analyse any aspects of the game. Or if you want to preview the upcoming match, fire away! Think of it as your audition for the Monday Night Football discussion.\\n\\n- [Post-Match day threads](https://www.reddit.com/r/LiverpoolFC/search?q=flair%3ASerious+%22Post-Match+Day%22&amp;restrict_sr=on&amp;sort=new&amp;t=all)\\n- [Last Match Threads](https://www.reddit.com/r/LiverpoolFC/search?q=flair%3Amatch%2Bthread&amp;sort=new&amp;restrict_sr=on&amp;t=week)\\n- [Football Highlights](http://reddit.com/r/footballhighlights)\\n- [Where to watch the next game](http://www.livesoccertv.com/teams/england/liverpool/)\\n                                                                                                                                                                                                                                                                                                                                                          28\n",
       "\\- [Recent Match Threads](https://www.reddit.com/r/LiverpoolFC/?f=flair_name%3A%22Post%20Match%22)\\n\\n\\- [Full FAQs](https://www.reddit.com/r/LiverpoolFC/wiki/faq)\\n\\n\\- [Buying Tickets](https://redd.it/8u0612)\\n\\n\\- [Guide for new fans](https://www.reddit.com/r/LiverpoolFC/wiki/newfans)\\n\\n\\- [Where is showing the match](https://www.reddit.com/r/LiverpoolFC/search?q=Where+to+watch+the+match+in%3F&amp;restrict_sr=on&amp;sort=relevance&amp;t=all)\\n\\n\\- [What channel is the next match on?](https://www.livesoccertv.com/teams/england/liverpool/)\\n\\n \\- [2020-2021 Charitable Bets](https://old.reddit.com/r/LiverpoolFC/comments/iqg9x3/20202021_charitable_bets/)\\n\\n \\- Fantasy Football Code 20/21 Season: w0d5rk                                                                                                                                                                                                                                                                                                                                                                                                                                          27\n",
       "This will burn your belly fat! To lose 16 pounds in 3 days, every night ...'                                                                                                                                                                                                                                                                                                                                                                                                                                                                                                                                                                                                                                                                                                                                                                                                                                                                                                                                                                                                                                                                                                      27\n",
       "\\- [Recent Match Threads](https://www.reddit.com/r/LiverpoolFC/?f=flair_name%3A%22Post%20Match%22)\\n\\n\\- [Full FAQs](https://www.reddit.com/r/LiverpoolFC/wiki/faq)\\n\\n\\- [Buying Tickets](https://redd.it/8u0612)\\n\\n\\- [Guide for new fans](https://www.reddit.com/r/LiverpoolFC/wiki/newfans)\\n\\n\\- [Where is showing the match](https://www.reddit.com/r/LiverpoolFC/search?q=Where+to+watch+the+match+in%3F&amp;restrict_sr=on&amp;sort=relevance&amp;t=all)\\n\\n\\- [What channel is the next match on?](https://www.livesoccertv.com/teams/england/liverpool/)\\n\\n \\- [2020-2021 Charitable Bets](https://old.reddit.com/r/LiverpoolFC/comments/iqg9x3/20202021_charitable_bets/)\\n\\n\\- [YNWSA - Great Escape Edition](https://www.reddit.com/r/LiverpoolFC/comments/njw51m/ynwsa_great_escape_edition/?sort=new)\\n\\n\\- [Copa America and European Championship Mega thread](https://www.reddit.com/r/LiverpoolFC/comments/nn7ow7/copa_america_and_european_championship_megathread/)                                                                                                                                                                                        26\n",
       "[ Removed by reddit in response to a copyright notice. ]                                                                                                                                                                                                                                                                                                                                                                                                                                                                                                                                                                                                                                                                                                                                                                                                                                                                                                                                                                                                                                                                                                                          26\n",
       "Lets use this as a discussion thread for International football. \\n\\nFor Liverpool specific player information, click below link:\\n\\n[Daily Match Summary Thread](https://www.reddit.com/r/LiverpoolFC/comments/nn7ow7/copa_america_and_european_championship_megathread/)\\n\\n[YNWSA - Summer Transfer Thread](https://www.reddit.com/r/LiverpoolFC/comments/njw51m/ynwsa_great_escape_edition/?sort=new)\\n\\n&amp;#x200B;\\n\\n*Note: If a user creates Liverpool player specific watch thread, it will have priority over this thread.*                                                                                                                                                                                                                                                                                                                                                                                                                                                                                                                                                                                                                                            24\n",
       "Ferrari's new NFT collection is Live. 800 NFTs for the first 800 people.                                                                                                                                                                                                                                                                                                                                                                                                                                                                                                                                                                                                                                                                                                                                                                                                                                                                                                                                                                                                                                                                                                          20\n",
       "This thread is for general football discussion and a place to ask quick questions.\\n\\nFollow us on [Twitter](https://twitter.com/rliverpoolfc)! \\n\\n- [Recent Match Threads](https://www.reddit.com/r/LiverpoolFC/search?q=flair%3Amatch%2Bthread&amp;sort=new&amp;restrict_sr=on&amp;t=week)\\n- [Full FAQs](https://www.reddit.com/r/LiverpoolFC/wiki/faq)\\n- [Buying Tickets](https://redd.it/8u0612)\\n- [Guide for new fans](https://www.reddit.com/r/LiverpoolFC/wiki/newfans)\\n- [Where is showing the match](https://www.reddit.com/r/LiverpoolFC/search?q=Where+to+watch+the+match+in%3F&amp;restrict_sr=on&amp;sort=relevance&amp;t=all)\\n- [What channel is the next match on?](https://www.livesoccertv.com/teams/england/liverpool/)\\n- [Discord Server](http://discord.gg/liverpoolfc)\\n- Fantasy Football Code: e0b59n                                                                                                                                                                                                                                                                                                                                               19\n",
       "We've all recovered from the weekend, we've rewatched the highlights - time to get stuck into the nitty gritty. Formations, buildup play, key players - this is your chance to talk and analyse any aspects of the game. Or if you want to preview the upcoming match, fire away! Think of it as your audition for the Monday Night Football discussion.\\n\\n- [Post-Match day threads](https://www.reddit.com/r/LiverpoolFC/search?q=flair%3ASerious+%22Post-Match+Day%22&amp;restrict_sr=on&amp;sort=new&amp;t=all)\\n- [Last Match Threads](https://www.reddit.com/r/LiverpoolFC/search?q=flair%3Amatch%2Bthread&amp;sort=new&amp;restrict_sr=on&amp;t=week)\\n- [Football Highlights](http://reddit.com/r/footballhighlights)\\n- [Where to watch the next game](http://www.livesoccertv.com/teams/england/liverpool/)                                                                                                                                                                                                                                                                                                                                                            17\n",
       "\\- [Transfer Guide Update Poll](https://old.reddit.com/r/LiverpoolFC/comments/z737la/transfer_tier_guide_update_survey/)\\n\\n\\- [Recent Match Threads](https://www.reddit.com/r/LiverpoolFC/?f=flair_name%3A%22Post%20Match%22)\\n\\n\\- [Full FAQs](https://www.reddit.com/r/LiverpoolFC/wiki/faq)\\n\\n\\- [Buying Tickets](https://redd.it/8u0612)\\n\\n\\- [Guide for new fans](https://www.reddit.com/r/LiverpoolFC/wiki/newfans)\\n\\n\\- [Where is showing the match](https://www.reddit.com/r/LiverpoolFC/search?q=Where+to+watch+the+match+in%3F&amp;restrict_sr=on&amp;sort=relevance&amp;t=all)\\n\\n\\- [What channel is the next match on?](https://www.livesoccertv.com/teams/england/liverpool/)\\n\\n\\- [2022-2023 Charitable Bets](https://www.reddit.com/r/LiverpoolFC/comments/w38az0/20222023_charitable_bets/)\\n\\n\\- [YNWSA- Summer Window 2022](https://www.reddit.com/r/LiverpoolFC/comments/v0xad6/ynwsa_summer_window_2022/)\\n\\n\\-  FPL : 9w7i3j                                                                                                                                                                                                                           16\n",
       "\\- [Recent Match Threads](https://www.reddit.com/r/LiverpoolFC/?f=flair_name%3A%22Post%20Match%22)\\n\\n\\- [Full FAQs](https://www.reddit.com/r/LiverpoolFC/wiki/faq)\\n\\n\\- [Buying Tickets](https://redd.it/8u0612)\\n\\n\\- [Guide for new fans](https://www.reddit.com/r/LiverpoolFC/wiki/newfans)\\n\\n\\- [Where is showing the match](https://www.reddit.com/r/LiverpoolFC/search?q=Where+to+watch+the+match+in%3F&amp;restrict_sr=on&amp;sort=relevance&amp;t=all)\\n\\n\\- [What channel is the next match on?](https://www.livesoccertv.com/teams/england/liverpool/)\\n\\n \\- [2022-2023 Charitable Bets](https://www.reddit.com/r/LiverpoolFC/comments/w38az0/20222023_charitable_bets/)\\n\\n\\- [YNWSA- Summer Window 2022](https://www.reddit.com/r/LiverpoolFC/comments/v0xad6/ynwsa_summer_window_2022/)                                                                                                                                                                                                                                                                                                                                                                          15\n",
       "Rolls Royce's new NFT collection is Live! 800 NFTs for the first 800 people!                                                                                                                                                                                                                                                                                                                                                                                                                                                                                                                                                                                                                                                                                                                                                                                                                                                                                                                                                                                                                                                                                                      13\n",
       "Name: body, dtype: int64"
      ]
     },
     "execution_count": 20,
     "metadata": {},
     "output_type": "execute_result"
    }
   ],
   "source": [
    "liv_p.body.value_counts().loc[lambda x: x> 10].sort_values(ascending = False)"
   ]
  },
  {
   "cell_type": "code",
   "execution_count": 43,
   "id": "27a702b3",
   "metadata": {},
   "outputs": [],
   "source": [
    "# drops all rows in body with a text that occurs more than once ie. promo, admin posts, spam posts etc.\n",
    "\n",
    "liv_p.body = liv_p.body.drop_duplicates(keep='first')"
   ]
  },
  {
   "cell_type": "code",
   "execution_count": 39,
   "id": "5e195c8f",
   "metadata": {},
   "outputs": [],
   "source": [
    "# saves cleaned df to datasets folder\n",
    "\n",
    "liv_p.to_csv('../datasets/liv_final.csv', index = False)"
   ]
  }
 ],
 "metadata": {
  "kernelspec": {
   "display_name": "Python 3 (ipykernel)",
   "language": "python",
   "name": "python3"
  },
  "language_info": {
   "codemirror_mode": {
    "name": "ipython",
    "version": 3
   },
   "file_extension": ".py",
   "mimetype": "text/x-python",
   "name": "python",
   "nbconvert_exporter": "python",
   "pygments_lexer": "ipython3",
   "version": "3.9.13"
  }
 },
 "nbformat": 4,
 "nbformat_minor": 5
}

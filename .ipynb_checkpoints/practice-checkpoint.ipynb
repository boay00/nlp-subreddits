{
 "cells": [
  {
   "cell_type": "code",
   "execution_count": 1,
   "id": "5c5229e4",
   "metadata": {},
   "outputs": [],
   "source": [
    "base_url = 'https://api.pushshift.io/reddit/submission/search'"
   ]
  },
  {
   "cell_type": "code",
   "execution_count": 82,
   "id": "86e50beb",
   "metadata": {},
   "outputs": [],
   "source": [
    "import requests\n",
    "import pandas as pd\n",
    "from datetime import datetime\n",
    "import time"
   ]
  },
  {
   "cell_type": "code",
   "execution_count": 83,
   "id": "869835f9",
   "metadata": {},
   "outputs": [],
   "source": [
    "params = {\n",
    "    'subreddit' : 'superhoops',\n",
    "    'limit' : 1000,\n",
    "    'unitl' : round(time.time()),\n",
    "    'sort' : 'created_utc',\n",
    "    'order' : 'desc'\n",
    "    \n",
    "}"
   ]
  },
  {
   "cell_type": "code",
   "execution_count": 84,
   "id": "d783132b",
   "metadata": {},
   "outputs": [],
   "source": [
    "res = requests.get(base_url, params)"
   ]
  },
  {
   "cell_type": "code",
   "execution_count": 67,
   "id": "5714dd82",
   "metadata": {},
   "outputs": [
    {
     "data": {
      "text/plain": [
       "{'es': {'took': 1139,\n",
       "  'timed_out': False,\n",
       "  '_shards': {'total': 352, 'successful': 352, 'skipped': 0, 'failed': 0},\n",
       "  'hits': {'total': {'value': 7592, 'relation': 'eq'}, 'max_score': None}},\n",
       " 'es_query': {'size': 100,\n",
       "  'query': {'bool': {'must': [{'bool': {'must': [{'range': {'created_utc': {'gte': 0}}}]}},\n",
       "     {'bool': {'should': [{'match': {'subreddit': 'superhoops'}}],\n",
       "       'minimum_should_match': 1}}]}},\n",
       "  'aggs': {},\n",
       "  'sort': {'created_utc': 'asc'}},\n",
       " 'es_query2': '{\"size\":100,\"query\":{\"bool\":{\"must\":[{\"bool\":{\"must\":[{\"range\":{\"created_utc\":{\"gte\":0}}}]}},{\"bool\":{\"should\":[{\"match\":{\"subreddit\":\"superhoops\"}}],\"minimum_should_match\":1}}]}},\"aggs\":{},\"sort\":{\"created_utc\":\"asc\"}}'}"
      ]
     },
     "execution_count": 67,
     "metadata": {},
     "output_type": "execute_result"
    }
   ],
   "source": [
    "res.json()['metadata']"
   ]
  },
  {
   "cell_type": "code",
   "execution_count": 85,
   "id": "16359439",
   "metadata": {},
   "outputs": [],
   "source": [
    "df = pd.DataFrame(res.json()['data'])"
   ]
  },
  {
   "cell_type": "code",
   "execution_count": 69,
   "id": "fbfd06f3",
   "metadata": {},
   "outputs": [
    {
     "data": {
      "text/plain": [
       "Index(['downs', 'link_flair_text', 'distinguished', 'media', 'url',\n",
       "       'link_flair_css_class', 'id', 'edited', 'num_reports', 'created_utc',\n",
       "       'subreddit', 'title', 'author_flair_text', 'is_self', 'author',\n",
       "       'media_embed', 'permalink', 'author_flair_css_class', 'selftext',\n",
       "       'domain', 'num_comments', 'likes', 'thumbnail', 'saved', 'subreddit_id',\n",
       "       'ups', 'approved_by', 'score', 'selftext_html', 'created', 'hidden',\n",
       "       'over_18', 'retrieved_utc', 'updated_utc', 'utc_datetime_str',\n",
       "       'edited_on'],\n",
       "      dtype='object')"
      ]
     },
     "execution_count": 69,
     "metadata": {},
     "output_type": "execute_result"
    }
   ],
   "source": [
    "df.columns"
   ]
  },
  {
   "cell_type": "code",
   "execution_count": 86,
   "id": "a86b9a87",
   "metadata": {
    "scrolled": true
   },
   "outputs": [
    {
     "data": {
      "text/plain": [
       "                                                                                                                                                                                                                                                                                                                                                                                                                                                                                                                                                                                                                                                                                                                                                                                                                                                                                                                                                                                                                                                                                                                                                                                                                                                                                                                                                                                                                                                                                                                                                                                                                                                                                                                                                                                                                                                                                                                                                                                                                                                                                                                                                                                                                                                                                                                                                                                                                                                                                                                                                                                                                                                                                                                                                                                                                                                                                                                                                                                                                                                                                                                                                                                                                                                                                                                                                                                                                                                                                                                                                                                                                                                                   668\n",
       "[deleted]                                                                                                                                                                                                                                                                                                                                                                                                                                                                                                                                                                                                                                                                                                                                                                                                                                                                                                                                                                                                                                                                                                                                                                                                                                                                                                                                                                                                                                                                                                                                                                                                                                                                                                                                                                                                                                                                                                                                                                                                                                                                                                                                                                                                                                                                                                                                                                                                                                                                                                                                                                                                                                                                                                                                                                                                                                                                                                                                                                                                                                                                                                                                                                                                                                                                                                                                                                                                                                                                                                                                                                                                                                                           49\n",
       "[removed]                                                                                                                                                                                                                                                                                                                                                                                                                                                                                                                                                                                                                                                                                                                                                                                                                                                                                                                                                                                                                                                                                                                                                                                                                                                                                                                                                                                                                                                                                                                                                                                                                                                                                                                                                                                                                                                                                                                                                                                                                                                                                                                                                                                                                                                                                                                                                                                                                                                                                                                                                                                                                                                                                                                                                                                                                                                                                                                                                                                                                                                                                                                                                                                                                                                                                                                                                                                                                                                                                                                                                                                                                                                            8\n",
       "[Preview](https://www.bbc.com/sport/football/47994357)\\n\\n[Lineup](https://twitter.com/QPR/status/1122123233526996992)\\n\\nStream available via QPR+                                                                                                                                                                                                                                                                                                                                                                                                                                                                                                                                                                                                                                                                                                                                                                                                                                                                                                                                                                                                                                                                                                                                                                                                                                                                                                                                                                                                                                                                                                                                                                                                                                                                                                                                                                                                                                                                                                                                                                                                                                                                                                                                                                                                                                                                                                                                                                                                                                                                                                                                                                                                                                                                                                                                                                                                                                                                                                                                                                                                                                                                                                                                                                                                                                                                                                                                                                                                                                                                                                                  1\n",
       "**Loans exiting**: Wells, Cameron, Hemed.  \\n\\n**Analysis**: Wells would be the only player worth looking at signing permanently.  With a market value of £4.05m, is likely to be out of our league financially speaking.\\n\\n**Players out of contract**: Bidwell, Lynch, Hall, Wszolek, Cousins, Rangel, Shodipo, Baptiste.\\n\\n**Depth Chart**:\\n\\nGK: Lumley, Ingram.\\n\\nLB: (Bidwell), Manning.\\n\\nCB: Leistner, (Hall), (Baptiste), (Lynch).\\n\\nRB: Furlong, Kakay, (Rangel).\\n\\nLM: Osayi-Samuel, Manning, (Shodipo).\\n\\nCM: Luongo, Scowen, Goss, (Cousins).\\n\\nRM: Smyth, (Wszolek).\\n\\nAM: Freeman, Eze, Chair.\\n\\nST: Smith, Oteh, Smyth.\\n\\n**Analysis**:\\n\\n**Defense**: Left back has no cover and thus we should prioritize re-signing Bidwell.  He is reliable and rarely injured.  At centre back we also run into problems if we do not re-sign Hall and Baptiste.  Hall seems to be past his extensive knee problems and both have performed consistently well in recent years.  Not only that but Baptiste can provide cover anywhere across the back line.  Lynch should be let go.  Between his constant injury problems and lack of quality, he is simply not good enough.  It is worth considering retaining Rangel if the price is right.  He can provide good experience to Furlong but he is getting up there in age and there are questions around whether he can stay fit.  If we can keep Bidwell, Hall, and Baptiste we should still consider signing another CB/LB.\\n\\n**Potential Signings (criteria being out of contract, under 30, likely improvement):** \\n\\n**LB:** Jonas Knudsen (Ipswich, Out of Contract), Martin Olsson (Swansea, Out of Contract), Joe Mattock (Rotherham, Out of Contract).\\n\\n**CB:** Mike van der Hoorn (Swansea, Out of Contract), Yoann Barbet (Brentford, Out of Contract), Mark Beevers (Bolton, Out of Contract), Michael Ihiekwe (Rotherham, Out of Contract)\\n\\n**Midfield**: Both wings seem in good hands, especially if we prioritize signing Wszolek with the option for another year on his contract.  We lack depth at central midfield.  Goss returns from his loan but there is little confidence he is worth a spot in the first team.  Cousins has been injury prone and also lacking in quality in his time with QPR and should be released.  We will likely need two new players to be confident in our depth at this position.  There is talk that Freeman could be sold off to a Premier League club next season and we could definitely use that transfer fee to finance the purchase of several players.  What is more is that even if Freeman was to go, we would still have plenty of depth at attacking midfield.\\n\\n**Potential Signings CM:** Markus Henriksen (Hull, Out of Contract), Alan Browne (Preston, Out of Contract), Lewis Wing (Middlesbrough, Out of Contract), Lewis Macleod (Brentford, Out of Contract), \\n\\n**Striker**: If we do not sign Wells permanently, and it is very unlikely that we will, we will surely need to bring another striker into the team.  We should definitely work Oteh into the team off the bench, but as a team we still struggle to find a true striker since Austin left the team many years ago.\\n\\n**Potential Signings ST (going over 30 years old here):** Fraizer Campbell (Hull, Out of Contract), David McGoldrick (Sheffield United, Out of Contract), Lee Gregory (Millwall, Out of Contract), Freddie Sears (Ipswich, Out of Contract).\\n\\nStriker is likely the position where we might have to make use of a transfer fee.  I could also see us going to the loan market for another 1-2 players next season.      1\n",
       "                                                                                                                                                                                                                                                                                                                                                                                                                                                                                                                                                                                                                                                                                                                                                                                                                                                                                                                                                                                                                                                                                                                                                                                                                                                                                                                                                                                                                                                                                                                                                                                                                                                                                                                                                                                                                                                                                                                                                                                                                                                                                                                                                                                                                                                                                                                                                                                                                                                                                                                                                                                                                                                                                                                                                                                                                                                                                                                                                                                                                                                                                                                                                                                                                                                                                                                                                                                                                                                                                                                                                                                                                                                                  ... \n",
       "Hey everyone!\\n\\nI’ll be visiting London (and UK as a whole) for the first time at the turn of the year and really want to see a football match while I’m there.\\n\\nI asked on Reddit and based on the replies, decided I’ll go and see the QPR-Cardiff match on Jan 1st. Now I’m buying tickets, but I’ve run into a dilemma.\\n\\nI was thinking of buying tickets to one of the stands that the biggest fans like to inhabit (according to the internet), most likely the Ellerslie Road Stand R-block. I just wanted to check if that’s an alright thing to do as a visitor who isn’t a fan of the club, since I don’t mean to be disrespectful.\\n\\nI just think it might be an even better experience to watch the game with people who really love the club. I’m sorry if this is a strange question, I’m just not that familiar with English football culture on any deeper level.\\n\\nTL;DR: Can I buy a ticket to the ”ultra” stand as a first time visitor or is that disrespectful?                                                                                                                                                                                                                                                                                                                                                                                                                                                                                                                                                                                                                                                                                                                                                                                                                                                                                                                                                                                                                                                                                                                                                                                                                                                                                                                                                                                                                                                                                                                                                                                                                                                                                                                                                                                                                                                                                                                                                                                                                                                                                                                                                                                                                                                                                                                                                                                                                                                                                                                                                                                                                                                                          1\n",
       "[Preview](https://www.bbc.com/sport/football/50847035)\\n\\n[Lineup](\\nhttps://twitter.com/QPR/status/1210266526537965573?s=09)                                                                                                                                                                                                                                                                                                                                                                                                                                                                                                                                                                                                                                                                                                                                                                                                                                                                                                                                                                                                                                                                                                                                                                                                                                                                                                                                                                                                                                                                                                                                                                                                                                                                                                                                                                                                                                                                                                                                                                                                                                                                                                                                                                                                                                                                                                                                                                                                                                                                                                                                                                                                                                                                                                                                                                                                                                                                                                                                                                                                                                                                                                                                                                                                                                                                                                                                                                                                                                                                                                                                        1\n",
       "[Preview](https://www.bbc.com/sport/football/50791375)\\n\\n[Lineup](https://twitter.com/QPR/status/1208386843231825920?s=09)\\n\\nStream available via QPR+                                                                                                                                                                                                                                                                                                                                                                                                                                                                                                                                                                                                                                                                                                                                                                                                                                                                                                                                                                                                                                                                                                                                                                                                                                                                                                                                                                                                                                                                                                                                                                                                                                                                                                                                                                                                                                                                                                                                                                                                                                                                                                                                                                                                                                                                                                                                                                                                                                                                                                                                                                                                                                                                                                                                                                                                                                                                                                                                                                                                                                                                                                                                                                                                                                                                                                                                                                                                                                                                                                             1\n",
       "Club are currently asking fans on twitter who our best 11 of this decade in a 4-4-2 formation is?\\n\\nFor me it goes\\n\\n                Smithies\\n\\n    Furlong, Fitz Hall, Ounoha, Hill\\n\\n    Freeman, Derry, Faurlin, Taarabt\\n\\n           Helguson, Austin                                                                                                                                                                                                                                                                                                                                                                                                                                                                                                                                                                                                                                                                                                                                                                                                                                                                                                                                                                                                                                                                                                                                                                                                                                                                                                                                                                                                                                                                                                                                                                                                                                                                                                                                                                                                                                                                                                                                                                                                                                                                                                                                                                                                                                                                                                                                                                                                                                                                                                                                                                                                                                                                                                                                                                                                                                                                                                                                                                                                                                                                                                                                                                                                                                                                                                                                                                                                       1\n",
       "Vs Charlton:\\n\\nhttps://giphy.com/gifs/jVMZrgQMb2yBOplfmu\\n\\nVs Barnet:\\n\\nhttps://giphy.com/gifs/fxHXZSxLhrILyJ00OP                                                                                                                                                                                                                                                                                                                                                                                                                                                                                                                                                                                                                                                                                                                                                                                                                                                                                                                                                                                                                                                                                                                                                                                                                                                                                                                                                                                                                                                                                                                                                                                                                                                                                                                                                                                                                                                                                                                                                                                                                                                                                                                                                                                                                                                                                                                                                                                                                                                                                                                                                                                                                                                                                                                                                                                                                                                                                                                                                                                                                                                                                                                                                                                                                                                                                                                                                                                                                                                                                                                                                 1\n",
       "Name: selftext, Length: 278, dtype: int64"
      ]
     },
     "execution_count": 86,
     "metadata": {},
     "output_type": "execute_result"
    }
   ],
   "source": [
    "df.selftext.value_counts()"
   ]
  },
  {
   "cell_type": "code",
   "execution_count": 88,
   "id": "9e87370a",
   "metadata": {
    "scrolled": true
   },
   "outputs": [
    {
     "data": {
      "text/plain": [
       "datetime.datetime(2018, 7, 1, 12, 1, 22)"
      ]
     },
     "execution_count": 88,
     "metadata": {},
     "output_type": "execute_result"
    }
   ],
   "source": [
    "datetime.fromtimestamp(df['created_utc'].min())"
   ]
  },
  {
   "cell_type": "code",
   "execution_count": 105,
   "id": "27ce4644",
   "metadata": {
    "scrolled": true
   },
   "outputs": [
    {
     "name": "stdout",
     "output_type": "stream",
     "text": [
      "CPU times: user 3 µs, sys: 1 µs, total: 4 µs\n",
      "Wall time: 9.06 µs\n",
      "200\n",
      "time to scrape: 3.552037000656128; num posts: 1000\n",
      "200\n",
      "time to scrape: 3.6317203044891357; num posts: 2000\n",
      "200\n",
      "time to scrape: 2.766116142272949; num posts: 3000\n",
      "200\n",
      "time to scrape: 2.606278896331787; num posts: 4000\n",
      "200\n",
      "time to scrape: 3.19620680809021; num posts: 5000\n",
      "200\n",
      "time to scrape: 2.7783219814300537; num posts: 6000\n",
      "200\n",
      "time to scrape: 2.715489149093628; num posts: 7000\n",
      "200\n",
      "time to scrape: 0.5317811965942383; num posts: 8000\n"
     ]
    }
   ],
   "source": [
    "%time\n",
    "\n",
    "all_posts = []\n",
    "current_time = round(time.time())\n",
    "params_until = {\n",
    "    'subreddit': 'superhoops',\n",
    "    'limit': 1000,\n",
    "    'until': current_time,\n",
    "    'sort': 'created_utc',\n",
    "    'order': 'desc'\n",
    "}\n",
    "\n",
    "num_posts = 0\n",
    "total_time = 0\n",
    "\n",
    "for _ in range(8):\n",
    "    start = time.time()\n",
    "    res = requests.get(base_url, params_until)\n",
    "    print(res.status_code)\n",
    "    try:\n",
    "        posts = pd.DataFrame(res.json()['data'])\n",
    "        all_posts.append(posts)\n",
    "        params['until'] = posts['created_utc'].min()\n",
    "        num_posts += len(posts)\n",
    "        end = time.time()\n",
    "        time_to = end - start\n",
    "        total_time += time_to\n",
    "    except:\n",
    "        pass\n",
    "    print(f\"time to scrape: {time_to}; num posts: {num_posts}\")"
   ]
  },
  {
   "cell_type": "code",
   "execution_count": 106,
   "id": "5b82cbdd",
   "metadata": {},
   "outputs": [
    {
     "data": {
      "text/plain": [
       "2.7222439348697662"
      ]
     },
     "execution_count": 106,
     "metadata": {},
     "output_type": "execute_result"
    }
   ],
   "source": [
    "total_time/ 8"
   ]
  }
 ],
 "metadata": {
  "kernelspec": {
   "display_name": "Python 3 (ipykernel)",
   "language": "python",
   "name": "python3"
  },
  "language_info": {
   "codemirror_mode": {
    "name": "ipython",
    "version": 3
   },
   "file_extension": ".py",
   "mimetype": "text/x-python",
   "name": "python",
   "nbconvert_exporter": "python",
   "pygments_lexer": "ipython3",
   "version": "3.9.13"
  }
 },
 "nbformat": 4,
 "nbformat_minor": 5
}
